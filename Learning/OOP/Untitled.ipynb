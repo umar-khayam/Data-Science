{
 "cells": [
  {
   "cell_type": "code",
   "execution_count": 32,
   "id": "32a5bcdd",
   "metadata": {},
   "outputs": [],
   "source": [
    "class ATM:\n",
    "    def __init__(self):\n",
    "        self.pin=\"\"\n",
    "        self.balance=0\n",
    "        self.manu()\n",
    "    def manu(self):\n",
    "        user_input=int(input(\"\"\"Hello, How you would like to proceed?\n",
    "                         1. Enter 1 to create pin\n",
    "                         2. Enter 2 to deposit\n",
    "                         3. Enter 3 to withdraw\n",
    "                         4. Enter 4 to check balance\n",
    "                         5. Enter 5 to exit\n",
    "                         \"\"\"))\n",
    "        if user_input==1:\n",
    "            self.create_pin()\n",
    "        elif user_input==2:\n",
    "            self.deposit()\n",
    "        elif user_input==3:\n",
    "            self.withdraw()\n",
    "        elif user_input==4:\n",
    "            self.check_balance()\n",
    "        else:\n",
    "            print('Exited')\n",
    "    def create_pin(self):\n",
    "        self.pin=input(\"Enter your pin \")\n",
    "        \n",
    "    def deposit(self):\n",
    "        temp=input(\"Enter your pin \")\n",
    "        if temp==self.pin:\n",
    "            amount=int(input(\"Enter the amount\"))\n",
    "            self.balance=amount+self.balance\n",
    "            print(\"Depoist successfully\")\n",
    "        else:\n",
    "            print(\"Invalid pin\")\n",
    "            \n",
    "    def withdraw(self):\n",
    "        temp=input(\"Enter your pin \")\n",
    "        if temp==self.pin:\n",
    "            amount=int(input(\"Enter the amount\"))\n",
    "            if amount< self.balance:\n",
    "                self.balance=self.balance-amount\n",
    "                print(\"Successfully Withdraw\")\n",
    "            else:\n",
    "                print(\"Insufficent funds\")\n",
    "        else:\n",
    "            print(\"Invalid pin\")\n",
    "            \n",
    "    def check_balance(self):\n",
    "        temp=input(\"Enter your pin \")\n",
    "        if temp==self.pin:\n",
    "            print(self.balance)\n",
    "        else:\n",
    "            print(\"Invalid pin\")\n",
    "    \n",
    "        "
   ]
  },
  {
   "cell_type": "code",
   "execution_count": 35,
   "id": "a87290a6",
   "metadata": {},
   "outputs": [
    {
     "name": "stdout",
     "output_type": "stream",
     "text": [
      "Hello, How you would like to proceed?\n",
      "                         1. Enter 1 to create pin\n",
      "                         2. Enter 2 to deposit\n",
      "                         3. Enter 3 to withdraw\n",
      "                         4. Enter 4 to check balance\n",
      "                         5. Enter 5 to exit\n",
      "                         1\n",
      "Enter your pin12\n"
     ]
    },
    {
     "data": {
      "text/plain": [
       "<__main__.ATM at 0x7fb57808bd90>"
      ]
     },
     "execution_count": 35,
     "metadata": {},
     "output_type": "execute_result"
    }
   ],
   "source": [
    "atm=ATM()\n",
    "atm"
   ]
  },
  {
   "cell_type": "code",
   "execution_count": 36,
   "id": "e5a1b0b3",
   "metadata": {},
   "outputs": [
    {
     "name": "stdout",
     "output_type": "stream",
     "text": [
      "Enter your pin12\n",
      "Enter the amount4000\n",
      "Depoist successfully\n"
     ]
    }
   ],
   "source": [
    "atm.deposit()"
   ]
  },
  {
   "cell_type": "code",
   "execution_count": 38,
   "id": "ee779cfc",
   "metadata": {},
   "outputs": [
    {
     "name": "stdout",
     "output_type": "stream",
     "text": [
      "Enter your pin12\n",
      "Enter the amount200\n",
      "Successfully Withdraw\n"
     ]
    }
   ],
   "source": [
    "atm.withdraw()"
   ]
  },
  {
   "cell_type": "code",
   "execution_count": 39,
   "id": "3a8ba30b",
   "metadata": {},
   "outputs": [
    {
     "name": "stdout",
     "output_type": "stream",
     "text": [
      "Enter your pin12\n",
      "3800\n"
     ]
    }
   ],
   "source": [
    "atm.check_balance()"
   ]
  },
  {
   "cell_type": "markdown",
   "id": "bc2ceed6",
   "metadata": {},
   "source": [
    "#### Aggregation"
   ]
  },
  {
   "cell_type": "code",
   "execution_count": 1,
   "id": "37138aae",
   "metadata": {},
   "outputs": [],
   "source": [
    "class Customer:\n",
    "    def __init__(self, name, gender, address):\n",
    "        self.name=name\n",
    "        self.gender=gender\n",
    "        self.address=address\n",
    "    \n",
    "    def edit_profile(self, new_name, new_city, new_pincode, new_state):\n",
    "        self.name=new_name\n",
    "        self.address.change_address(new_city, new_pincode, new_state)\n",
    "    \n",
    "class Address:\n",
    "    def __init__(self, city, pincode, state):\n",
    "        self.city=city\n",
    "        self.pincode=pincode\n",
    "        self.state=state\n",
    "    \n",
    "    def change_address(self, new_city, new_pincode, new_state):\n",
    "        self.city=new_city\n",
    "        self.pincode=new_pincode\n",
    "        self.state=new_state\n",
    "\n",
    "ad=Address('Hazro', 43, 'Attock')        \n",
    "cu=Customer('Umar', 'Male', ad)"
   ]
  },
  {
   "cell_type": "code",
   "execution_count": 2,
   "id": "420906d9",
   "metadata": {},
   "outputs": [],
   "source": [
    "cu.edit_profile('Umar', 'Attock', 430, 'Punjab')"
   ]
  },
  {
   "cell_type": "code",
   "execution_count": 3,
   "id": "77c81bfa",
   "metadata": {},
   "outputs": [
    {
     "data": {
      "text/plain": [
       "'Umar'"
      ]
     },
     "execution_count": 3,
     "metadata": {},
     "output_type": "execute_result"
    }
   ],
   "source": [
    "cu.name"
   ]
  },
  {
   "cell_type": "code",
   "execution_count": 4,
   "id": "6922b005",
   "metadata": {},
   "outputs": [
    {
     "data": {
      "text/plain": [
       "'Attock'"
      ]
     },
     "execution_count": 4,
     "metadata": {},
     "output_type": "execute_result"
    }
   ],
   "source": [
    "ad.city"
   ]
  },
  {
   "cell_type": "code",
   "execution_count": 5,
   "id": "80f0e986",
   "metadata": {},
   "outputs": [
    {
     "data": {
      "text/plain": [
       "'Punjab'"
      ]
     },
     "execution_count": 5,
     "metadata": {},
     "output_type": "execute_result"
    }
   ],
   "source": [
    "ad.state"
   ]
  },
  {
   "cell_type": "markdown",
   "id": "dcb2d28d",
   "metadata": {},
   "source": [
    "#### Inheritance"
   ]
  },
  {
   "cell_type": "code",
   "execution_count": 6,
   "id": "ab12482f",
   "metadata": {},
   "outputs": [
    {
     "data": {
      "text/plain": [
       "'Iphone'"
      ]
     },
     "execution_count": 6,
     "metadata": {},
     "output_type": "execute_result"
    }
   ],
   "source": [
    "class Phone:\n",
    "    def __init__(self, brand, price, camera):\n",
    "        self.brand=brand\n",
    "        self.__price=price\n",
    "        self.__camera=camera\n",
    "    \n",
    "class Iphone(Phone):\n",
    "    pass\n",
    "ip=Iphone('Iphone', 50, 4)\n",
    "ip.brand"
   ]
  },
  {
   "cell_type": "code",
   "execution_count": 7,
   "id": "aadf2a71",
   "metadata": {},
   "outputs": [
    {
     "ename": "AttributeError",
     "evalue": "'Iphone' object has no attribute 'camera'",
     "output_type": "error",
     "traceback": [
      "\u001b[0;31m---------------------------------------------------------------------------\u001b[0m",
      "\u001b[0;31mAttributeError\u001b[0m                            Traceback (most recent call last)",
      "Cell \u001b[0;32mIn[7], line 1\u001b[0m\n\u001b[0;32m----> 1\u001b[0m \u001b[43mip\u001b[49m\u001b[38;5;241;43m.\u001b[39;49m\u001b[43mcamera\u001b[49m\n",
      "\u001b[0;31mAttributeError\u001b[0m: 'Iphone' object has no attribute 'camera'"
     ]
    }
   ],
   "source": [
    "ip.camera"
   ]
  },
  {
   "cell_type": "code",
   "execution_count": 8,
   "id": "2fa26209",
   "metadata": {},
   "outputs": [
    {
     "ename": "AttributeError",
     "evalue": "'Iphone' object has no attribute '__camera'",
     "output_type": "error",
     "traceback": [
      "\u001b[0;31m---------------------------------------------------------------------------\u001b[0m",
      "\u001b[0;31mAttributeError\u001b[0m                            Traceback (most recent call last)",
      "Cell \u001b[0;32mIn[8], line 1\u001b[0m\n\u001b[0;32m----> 1\u001b[0m \u001b[43mip\u001b[49m\u001b[38;5;241;43m.\u001b[39;49m\u001b[43m__camera\u001b[49m\n",
      "\u001b[0;31mAttributeError\u001b[0m: 'Iphone' object has no attribute '__camera'"
     ]
    }
   ],
   "source": [
    "ip.__camera"
   ]
  },
  {
   "cell_type": "markdown",
   "id": "33775cf8",
   "metadata": {},
   "source": [
    "#### Method Overriding"
   ]
  },
  {
   "cell_type": "code",
   "execution_count": 20,
   "id": "f02febe5",
   "metadata": {},
   "outputs": [
    {
     "name": "stdout",
     "output_type": "stream",
     "text": [
      "child called\n",
      "Iphone\n"
     ]
    }
   ],
   "source": [
    "class Phone:\n",
    "    def __init__(self, brand, price, camera):\n",
    "        self.brand=brand\n",
    "        self.__price=price\n",
    "        self.__camera=camera\n",
    "    \n",
    "    def buy(self):\n",
    "        print(self.brand)\n",
    "class Iphone(Phone):\n",
    "    pass\n",
    "    def buy(self):\n",
    "        print('child called')\n",
    "        print(self.brand)\n",
    "    \n",
    "ip=Iphone('Iphone', 50, 4)\n",
    "ip.buy()\n"
   ]
  },
  {
   "cell_type": "markdown",
   "id": "d6344044",
   "metadata": {},
   "source": [
    "#### Super"
   ]
  },
  {
   "cell_type": "code",
   "execution_count": 30,
   "id": "b58f11bc",
   "metadata": {},
   "outputs": [
    {
     "name": "stdout",
     "output_type": "stream",
     "text": [
      "child called\n",
      "Iphone\n"
     ]
    }
   ],
   "source": [
    "class Phone:\n",
    "    def __init__(self, brand, price, camera):\n",
    "        self.brand=brand\n",
    "        self.__price=price\n",
    "        self.__camera=camera\n",
    "    \n",
    "    def buy(self):\n",
    "        print(self.brand)\n",
    "class Iphone(Phone):\n",
    "    def __init__(self, brand, price, camera, os, ram):\n",
    "    \n",
    "        super().__init__(brand, price, camera)\n",
    "        self.os=os\n",
    "        self.ram=ram\n",
    "        \n",
    "    def buy(self):\n",
    "        print('child called')\n",
    "        print(self.brand)\n",
    "    \n",
    "ip=Iphone('Iphone', 50, 4, 4.5, '4 gb')\n",
    "ip.buy()"
   ]
  },
  {
   "cell_type": "code",
   "execution_count": 31,
   "id": "35f631af",
   "metadata": {},
   "outputs": [
    {
     "name": "stdout",
     "output_type": "stream",
     "text": [
      "child called\n",
      "Samsung\n"
     ]
    },
    {
     "data": {
      "text/plain": [
       "3.5"
      ]
     },
     "execution_count": 31,
     "metadata": {},
     "output_type": "execute_result"
    }
   ],
   "source": [
    "ip1=Iphone('Samsung', 40, 2, 3.5, '3 gb')\n",
    "ip1.buy()\n",
    "ip1.os"
   ]
  },
  {
   "cell_type": "code",
   "execution_count": 33,
   "id": "eb05137a",
   "metadata": {},
   "outputs": [
    {
     "name": "stdout",
     "output_type": "stream",
     "text": [
      "child called\n",
      "Iphone\n",
      "Parent called\n"
     ]
    }
   ],
   "source": [
    "class Phone:\n",
    "    def __init__(self, brand, price, camera):\n",
    "        self.brand=brand\n",
    "        self.__price=price\n",
    "        self.__camera=camera\n",
    "    \n",
    "    def buy(self):\n",
    "        print('Parent called')\n",
    "class Iphone(Phone):\n",
    "    def __init__(self, brand, price, camera, os, ram):\n",
    "    \n",
    "        super().__init__(brand, price, camera)\n",
    "        self.os=os\n",
    "        self.ram=ram\n",
    "        \n",
    "    def buy(self):\n",
    "        print('child called')\n",
    "        print(self.brand)\n",
    "        super().buy()\n",
    "    \n",
    "ip=Iphone('Iphone', 50, 4, 4.5, '4 gb')\n",
    "ip.buy()"
   ]
  },
  {
   "cell_type": "code",
   "execution_count": null,
   "id": "e4e0ed54",
   "metadata": {},
   "outputs": [],
   "source": []
  },
  {
   "cell_type": "code",
   "execution_count": null,
   "id": "f6a9a8c7",
   "metadata": {},
   "outputs": [],
   "source": []
  },
  {
   "cell_type": "code",
   "execution_count": null,
   "id": "db4776c8",
   "metadata": {},
   "outputs": [],
   "source": []
  },
  {
   "cell_type": "code",
   "execution_count": null,
   "id": "8204f941",
   "metadata": {},
   "outputs": [],
   "source": []
  },
  {
   "cell_type": "code",
   "execution_count": 39,
   "id": "b9ec833b",
   "metadata": {},
   "outputs": [
    {
     "name": "stdout",
     "output_type": "stream",
     "text": [
      "Parent called\n"
     ]
    }
   ],
   "source": [
    "class GrandParent:\n",
    "    def __init__(self, name, age, price):\n",
    "        self.name=name\n",
    "        self.age=age\n",
    "        self.price=price\n",
    "    \n",
    "    def buy(self):\n",
    "        print('Grand Parent called')\n",
    "class Parent(GrandParent):\n",
    "    def __init__(self, name, age, price, house):\n",
    "    \n",
    "        super().__init__(name, age, price)\n",
    "        self.house=house\n",
    "        \n",
    "    def buy(self):\n",
    "        print('Parent called')\n",
    "\n",
    "class Child(Parent, GrandParent):\n",
    "    pass\n",
    "ch=Child('Dada', 45, 5400, 'Yes')\n",
    "ch.buy()"
   ]
  },
  {
   "cell_type": "code",
   "execution_count": null,
   "id": "c395c504",
   "metadata": {},
   "outputs": [],
   "source": []
  }
 ],
 "metadata": {
  "kernelspec": {
   "display_name": "Python 3 (ipykernel)",
   "language": "python",
   "name": "python3"
  },
  "language_info": {
   "codemirror_mode": {
    "name": "ipython",
    "version": 3
   },
   "file_extension": ".py",
   "mimetype": "text/x-python",
   "name": "python",
   "nbconvert_exporter": "python",
   "pygments_lexer": "ipython3",
   "version": "3.10.9"
  }
 },
 "nbformat": 4,
 "nbformat_minor": 5
}
