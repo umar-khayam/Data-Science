{
 "cells": [
  {
   "cell_type": "code",
   "execution_count": 32,
   "id": "32a5bcdd",
   "metadata": {},
   "outputs": [],
   "source": [
    "class ATM:\n",
    "    def __init__(self):\n",
    "        self.pin=\"\"\n",
    "        self.balance=0\n",
    "        self.manu()\n",
    "    def manu(self):\n",
    "        user_input=int(input(\"\"\"Hello, How you would like to proceed?\n",
    "                         1. Enter 1 to create pin\n",
    "                         2. Enter 2 to deposit\n",
    "                         3. Enter 3 to withdraw\n",
    "                         4. Enter 4 to check balance\n",
    "                         5. Enter 5 to exit\n",
    "                         \"\"\"))\n",
    "        if user_input==1:\n",
    "            self.create_pin()\n",
    "        elif user_input==2:\n",
    "            self.deposit()\n",
    "        elif user_input==3:\n",
    "            self.withdraw()\n",
    "        elif user_input==4:\n",
    "            self.check_balance()\n",
    "        else:\n",
    "            print('Exited')\n",
    "    def create_pin(self):\n",
    "        self.pin=input(\"Enter your pin \")\n",
    "        \n",
    "    def deposit(self):\n",
    "        temp=input(\"Enter your pin \")\n",
    "        if temp==self.pin:\n",
    "            amount=int(input(\"Enter the amount\"))\n",
    "            self.balance=amount+self.balance\n",
    "            print(\"Depoist successfully\")\n",
    "        else:\n",
    "            print(\"Invalid pin\")\n",
    "            \n",
    "    def withdraw(self):\n",
    "        temp=input(\"Enter your pin \")\n",
    "        if temp==self.pin:\n",
    "            amount=int(input(\"Enter the amount\"))\n",
    "            if amount< self.balance:\n",
    "                self.balance=self.balance-amount\n",
    "                print(\"Successfully Withdraw\")\n",
    "            else:\n",
    "                print(\"Insufficent funds\")\n",
    "        else:\n",
    "            print(\"Invalid pin\")\n",
    "            \n",
    "    def check_balance(self):\n",
    "        temp=input(\"Enter your pin \")\n",
    "        if temp==self.pin:\n",
    "            print(self.balance)\n",
    "        else:\n",
    "            print(\"Invalid pin\")\n",
    "    \n",
    "        "
   ]
  },
  {
   "cell_type": "code",
   "execution_count": 35,
   "id": "a87290a6",
   "metadata": {},
   "outputs": [
    {
     "name": "stdout",
     "output_type": "stream",
     "text": [
      "Hello, How you would like to proceed?\n",
      "                         1. Enter 1 to create pin\n",
      "                         2. Enter 2 to deposit\n",
      "                         3. Enter 3 to withdraw\n",
      "                         4. Enter 4 to check balance\n",
      "                         5. Enter 5 to exit\n",
      "                         1\n",
      "Enter your pin12\n"
     ]
    },
    {
     "data": {
      "text/plain": [
       "<__main__.ATM at 0x7fb57808bd90>"
      ]
     },
     "execution_count": 35,
     "metadata": {},
     "output_type": "execute_result"
    }
   ],
   "source": [
    "atm=ATM()\n",
    "atm"
   ]
  },
  {
   "cell_type": "code",
   "execution_count": 36,
   "id": "e5a1b0b3",
   "metadata": {},
   "outputs": [
    {
     "name": "stdout",
     "output_type": "stream",
     "text": [
      "Enter your pin12\n",
      "Enter the amount4000\n",
      "Depoist successfully\n"
     ]
    }
   ],
   "source": [
    "atm.deposit()"
   ]
  },
  {
   "cell_type": "code",
   "execution_count": 38,
   "id": "ee779cfc",
   "metadata": {},
   "outputs": [
    {
     "name": "stdout",
     "output_type": "stream",
     "text": [
      "Enter your pin12\n",
      "Enter the amount200\n",
      "Successfully Withdraw\n"
     ]
    }
   ],
   "source": [
    "atm.withdraw()"
   ]
  },
  {
   "cell_type": "code",
   "execution_count": 39,
   "id": "3a8ba30b",
   "metadata": {},
   "outputs": [
    {
     "name": "stdout",
     "output_type": "stream",
     "text": [
      "Enter your pin12\n",
      "3800\n"
     ]
    }
   ],
   "source": [
    "atm.check_balance()"
   ]
  },
  {
   "cell_type": "markdown",
   "id": "da339e38",
   "metadata": {},
   "source": [
    "#### Aggregation"
   ]
  },
  {
   "cell_type": "code",
   "execution_count": 1,
   "id": "a83d8ce3",
   "metadata": {},
   "outputs": [],
   "source": [
    "class Customer:\n",
    "    def __init__(self, name, gender, address):\n",
    "        self.name=name\n",
    "        self.gender=gender\n",
    "        self.address=address\n",
    "    \n",
    "    def edit_profile(self, new_name, new_city, new_pincode, new_state):\n",
    "        self.name=new_name\n",
    "        self.address.change_address(new_city, new_pincode, new_state)\n",
    "    \n",
    "class Address:\n",
    "    def __init__(self, city, pincode, state):\n",
    "        self.city=city\n",
    "        self.pincode=pincode\n",
    "        self.state=state\n",
    "    \n",
    "    def change_address(self, new_city, new_pincode, new_state):\n",
    "        self.city=new_city\n",
    "        self.pincode=new_pincode\n",
    "        self.state=new_state\n",
    "\n",
    "ad=Address('Hazro', 43, 'Attock')        \n",
    "cu=Customer('Umar', 'Male', ad)"
   ]
  },
  {
   "cell_type": "code",
   "execution_count": null,
   "id": "616c1ac0",
   "metadata": {},
   "outputs": [],
   "source": [
    "cu.edit_profile('Umar', 'Attock', 430,  )"
   ]
  }
 ],
 "metadata": {
  "kernelspec": {
   "display_name": "Python 3 (ipykernel)",
   "language": "python",
   "name": "python3"
  },
  "language_info": {
   "codemirror_mode": {
    "name": "ipython",
    "version": 3
   },
   "file_extension": ".py",
   "mimetype": "text/x-python",
   "name": "python",
   "nbconvert_exporter": "python",
   "pygments_lexer": "ipython3",
   "version": "3.10.9"
  }
 },
 "nbformat": 4,
 "nbformat_minor": 5
}
