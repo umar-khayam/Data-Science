{
 "cells": [
  {
   "cell_type": "markdown",
   "id": "c555e0ad",
   "metadata": {},
   "source": [
    "# 14. This problem focuses on the collinearity problem."
   ]
  },
  {
   "cell_type": "code",
   "execution_count": 102,
   "id": "d1e64e9a",
   "metadata": {},
   "outputs": [],
   "source": [
    "import pandas as pd\n",
    "import numpy as np\n",
    "\n",
    "import statsmodels.api as sm"
   ]
  },
  {
   "cell_type": "markdown",
   "id": "acca12fc",
   "metadata": {},
   "source": [
    "## (a) Perform the following commands in Python\n",
    "\n",
    "The last line corresponds to creating a linear model in which y is a function of x1 and x2. Write out the form of the linear model. What are the regression coefficients?"
   ]
  },
  {
   "cell_type": "code",
   "execution_count": 103,
   "id": "d073fdca",
   "metadata": {},
   "outputs": [],
   "source": [
    "rng = np.random.default_rng(10)\n",
    "x1 = rng.uniform(0, 1, size=100)\n",
    "x2 = 0.5 * x1 + rng.normal(size=100) / 10\n",
    "y = 2 + 2 * x1 + 0.3 * x2 + rng.normal(size=100)"
   ]
  },
  {
   "cell_type": "code",
   "execution_count": 104,
   "id": "e8bd72ae",
   "metadata": {},
   "outputs": [
    {
     "data": {
      "text/html": [
       "<div>\n",
       "<style scoped>\n",
       "    .dataframe tbody tr th:only-of-type {\n",
       "        vertical-align: middle;\n",
       "    }\n",
       "\n",
       "    .dataframe tbody tr th {\n",
       "        vertical-align: top;\n",
       "    }\n",
       "\n",
       "    .dataframe thead th {\n",
       "        text-align: right;\n",
       "    }\n",
       "</style>\n",
       "<table border=\"1\" class=\"dataframe\">\n",
       "  <thead>\n",
       "    <tr style=\"text-align: right;\">\n",
       "      <th></th>\n",
       "      <th>intercept</th>\n",
       "      <th>x1</th>\n",
       "      <th>x2</th>\n",
       "      <th>y</th>\n",
       "    </tr>\n",
       "  </thead>\n",
       "  <tbody>\n",
       "    <tr>\n",
       "      <th>0</th>\n",
       "      <td>1</td>\n",
       "      <td>0.956002</td>\n",
       "      <td>0.469359</td>\n",
       "      <td>4.356977</td>\n",
       "    </tr>\n",
       "    <tr>\n",
       "      <th>1</th>\n",
       "      <td>1</td>\n",
       "      <td>0.207682</td>\n",
       "      <td>0.142509</td>\n",
       "      <td>3.677789</td>\n",
       "    </tr>\n",
       "    <tr>\n",
       "      <th>2</th>\n",
       "      <td>1</td>\n",
       "      <td>0.828445</td>\n",
       "      <td>0.587699</td>\n",
       "      <td>3.482079</td>\n",
       "    </tr>\n",
       "    <tr>\n",
       "      <th>3</th>\n",
       "      <td>1</td>\n",
       "      <td>0.149282</td>\n",
       "      <td>0.181141</td>\n",
       "      <td>2.369093</td>\n",
       "    </tr>\n",
       "    <tr>\n",
       "      <th>4</th>\n",
       "      <td>1</td>\n",
       "      <td>0.512805</td>\n",
       "      <td>0.236458</td>\n",
       "      <td>1.413295</td>\n",
       "    </tr>\n",
       "  </tbody>\n",
       "</table>\n",
       "</div>"
      ],
      "text/plain": [
       "   intercept        x1        x2         y\n",
       "0          1  0.956002  0.469359  4.356977\n",
       "1          1  0.207682  0.142509  3.677789\n",
       "2          1  0.828445  0.587699  3.482079\n",
       "3          1  0.149282  0.181141  2.369093\n",
       "4          1  0.512805  0.236458  1.413295"
      ]
     },
     "execution_count": 104,
     "metadata": {},
     "output_type": "execute_result"
    }
   ],
   "source": [
    "# make a dataframe with intercept, x1, x2, and y columns\n",
    "df = pd.DataFrame({'intercept' : 1, 'x1' : x1, 'x2': x2, 'y': y})\n",
    "df.head()"
   ]
  },
  {
   "cell_type": "markdown",
   "id": "46d56be4",
   "metadata": {},
   "source": [
    "Here is the form of linear model\n",
    "\n",
    "Y = β0 + (β1 * X1) + (β2 * β2) + ε\n",
    "\n",
    "β0 = 2\n",
    "\n",
    "β1 = 2\n",
    "\n",
    "β2 = 0.3"
   ]
  },
  {
   "cell_type": "code",
   "execution_count": 117,
   "id": "479f10fe",
   "metadata": {},
   "outputs": [],
   "source": [
    "# assign first two columns to X, and last to y\n",
    "X = df.iloc[:,:3]\n",
    "y = df.iloc[:,-1]"
   ]
  },
  {
   "cell_type": "code",
   "execution_count": 118,
   "id": "edd918cd",
   "metadata": {},
   "outputs": [
    {
     "name": "stdout",
     "output_type": "stream",
     "text": [
      "Intercept β0: 1.957909291136692\n",
      "Coefficient for x1 β1: 1.6153676985271601\n",
      "Coefficient for x2 β2: 0.9427766991595036\n"
     ]
    }
   ],
   "source": [
    "model = sm.OLS(y, X)\n",
    "\n",
    "# fit the model\n",
    "results = model.fit()\n",
    "\n",
    "# get the regression coefficients\n",
    "coefficients = results.params\n",
    "\n",
    "print(\"Intercept β0:\", coefficients[0])\n",
    "print(\"Coefficient for x1 β1:\", coefficients[1])\n",
    "print(\"Coefficient for x2 β2:\", coefficients[2])"
   ]
  },
  {
   "attachments": {},
   "cell_type": "markdown",
   "id": "01ce192c",
   "metadata": {},
   "source": [
    "Intercept β0: 1.957909291136692\n",
    "Coefficient for x1 β1: 1.6153676985271601\n",
    "Coefficient for x2 β2: 0.9427766991595036"
   ]
  },
  {
   "cell_type": "code",
   "execution_count": null,
   "id": "00cd1ae6",
   "metadata": {},
   "outputs": [],
   "source": []
  }
 ],
 "metadata": {
  "kernelspec": {
   "display_name": "Python 3 (ipykernel)",
   "language": "python",
   "name": "python3"
  },
  "language_info": {
   "codemirror_mode": {
    "name": "ipython",
    "version": 3
   },
   "file_extension": ".py",
   "mimetype": "text/x-python",
   "name": "python",
   "nbconvert_exporter": "python",
   "pygments_lexer": "ipython3",
   "version": "3.10.9"
  }
 },
 "nbformat": 4,
 "nbformat_minor": 5
}
