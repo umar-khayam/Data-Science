{
 "cells": [
  {
   "cell_type": "markdown",
   "id": "43f46f8d",
   "metadata": {},
   "source": [
    "# 14. This problem focuses on the collinearity problem."
   ]
  },
  {
   "cell_type": "code",
   "execution_count": 560,
   "id": "1f2bc6e7",
   "metadata": {},
   "outputs": [],
   "source": [
    "import pandas as pd\n",
    "import numpy as np\n",
    "\n",
    "import statsmodels.api as sm\n",
    "from ISLP.models import summarize\n",
    "\n",
    "import matplotlib.pyplot as plt"
   ]
  },
  {
   "cell_type": "markdown",
   "id": "39fee5ab",
   "metadata": {},
   "source": [
    "## (a) Perform the following commands in Python\n",
    "\n",
    "The last line corresponds to creating a linear model in which y is a function of x1 and x2. Write out the form of the linear model. What are the regression coefficients?"
   ]
  },
  {
   "cell_type": "code",
   "execution_count": 561,
   "id": "984db482",
   "metadata": {},
   "outputs": [],
   "source": [
    "rng = np.random.default_rng(10)\n",
    "x1 = rng.uniform(0, 1, size=100)\n",
    "x2 = 0.5 * x1 + rng.normal(size=100) / 10\n",
    "y = 2 + 2 * x1 + 0.3 * x2 + rng.normal(size=100)"
   ]
  },
  {
   "cell_type": "code",
   "execution_count": 562,
   "id": "b932f5df",
   "metadata": {},
   "outputs": [
    {
     "data": {
      "text/html": [
       "<div>\n",
       "<style scoped>\n",
       "    .dataframe tbody tr th:only-of-type {\n",
       "        vertical-align: middle;\n",
       "    }\n",
       "\n",
       "    .dataframe tbody tr th {\n",
       "        vertical-align: top;\n",
       "    }\n",
       "\n",
       "    .dataframe thead th {\n",
       "        text-align: right;\n",
       "    }\n",
       "</style>\n",
       "<table border=\"1\" class=\"dataframe\">\n",
       "  <thead>\n",
       "    <tr style=\"text-align: right;\">\n",
       "      <th></th>\n",
       "      <th>x1</th>\n",
       "      <th>x2</th>\n",
       "      <th>y</th>\n",
       "    </tr>\n",
       "  </thead>\n",
       "  <tbody>\n",
       "    <tr>\n",
       "      <th>0</th>\n",
       "      <td>0.956002</td>\n",
       "      <td>0.469359</td>\n",
       "      <td>4.356977</td>\n",
       "    </tr>\n",
       "    <tr>\n",
       "      <th>1</th>\n",
       "      <td>0.207682</td>\n",
       "      <td>0.142509</td>\n",
       "      <td>3.677789</td>\n",
       "    </tr>\n",
       "    <tr>\n",
       "      <th>2</th>\n",
       "      <td>0.828445</td>\n",
       "      <td>0.587699</td>\n",
       "      <td>3.482079</td>\n",
       "    </tr>\n",
       "    <tr>\n",
       "      <th>3</th>\n",
       "      <td>0.149282</td>\n",
       "      <td>0.181141</td>\n",
       "      <td>2.369093</td>\n",
       "    </tr>\n",
       "    <tr>\n",
       "      <th>4</th>\n",
       "      <td>0.512805</td>\n",
       "      <td>0.236458</td>\n",
       "      <td>1.413295</td>\n",
       "    </tr>\n",
       "  </tbody>\n",
       "</table>\n",
       "</div>"
      ],
      "text/plain": [
       "         x1        x2         y\n",
       "0  0.956002  0.469359  4.356977\n",
       "1  0.207682  0.142509  3.677789\n",
       "2  0.828445  0.587699  3.482079\n",
       "3  0.149282  0.181141  2.369093\n",
       "4  0.512805  0.236458  1.413295"
      ]
     },
     "execution_count": 562,
     "metadata": {},
     "output_type": "execute_result"
    }
   ],
   "source": [
    "# make a dataframe with intercept, x1, x2, and y columns\n",
    "df = pd.DataFrame({'x1' : x1, 'x2': x2, 'y': y})\n",
    "df.head()"
   ]
  },
  {
   "cell_type": "code",
   "execution_count": 563,
   "id": "d30406cd",
   "metadata": {},
   "outputs": [
    {
     "data": {
      "text/plain": [
       "(100, 3)"
      ]
     },
     "execution_count": 563,
     "metadata": {},
     "output_type": "execute_result"
    }
   ],
   "source": [
    "df.shape"
   ]
  },
  {
   "cell_type": "markdown",
   "id": "7b2cf2b6",
   "metadata": {},
   "source": [
    "Here is the form of linear model\n",
    "\n",
    "Y = β0 + (β1 * X1) + (β2 * β2) + ε\n",
    "\n",
    "β0 = 2\n",
    "\n",
    "β1 = 2\n",
    "\n",
    "β2 = 0.3"
   ]
  },
  {
   "cell_type": "markdown",
   "id": "b2dcb68a",
   "metadata": {},
   "source": [
    "## (b) What is the correlation between x1 and x2? \n",
    "\n",
    "Create a scatterplot displaying the relationship between the variables."
   ]
  },
  {
   "cell_type": "code",
   "execution_count": 564,
   "id": "840136ef",
   "metadata": {},
   "outputs": [
    {
     "data": {
      "text/html": [
       "<div>\n",
       "<style scoped>\n",
       "    .dataframe tbody tr th:only-of-type {\n",
       "        vertical-align: middle;\n",
       "    }\n",
       "\n",
       "    .dataframe tbody tr th {\n",
       "        vertical-align: top;\n",
       "    }\n",
       "\n",
       "    .dataframe thead th {\n",
       "        text-align: right;\n",
       "    }\n",
       "</style>\n",
       "<table border=\"1\" class=\"dataframe\">\n",
       "  <thead>\n",
       "    <tr style=\"text-align: right;\">\n",
       "      <th></th>\n",
       "      <th>x1</th>\n",
       "      <th>x2</th>\n",
       "    </tr>\n",
       "  </thead>\n",
       "  <tbody>\n",
       "    <tr>\n",
       "      <th>x1</th>\n",
       "      <td>1.000000</td>\n",
       "      <td>0.772324</td>\n",
       "    </tr>\n",
       "    <tr>\n",
       "      <th>x2</th>\n",
       "      <td>0.772324</td>\n",
       "      <td>1.000000</td>\n",
       "    </tr>\n",
       "  </tbody>\n",
       "</table>\n",
       "</div>"
      ],
      "text/plain": [
       "          x1        x2\n",
       "x1  1.000000  0.772324\n",
       "x2  0.772324  1.000000"
      ]
     },
     "execution_count": 564,
     "metadata": {},
     "output_type": "execute_result"
    }
   ],
   "source": [
    "df[['x1','x2']].corr()"
   ]
  },
  {
   "cell_type": "markdown",
   "id": "e3676c42",
   "metadata": {},
   "source": [
    "The correlation values between x1 and x2 is 0.77 suggesting highly correlated"
   ]
  },
  {
   "cell_type": "code",
   "execution_count": 565,
   "id": "874435c0",
   "metadata": {},
   "outputs": [
    {
     "data": {
      "image/png": "[encoded data removed]",
      "text/plain": [
       "<Figure size 640x480 with 1 Axes>"
      ]
     },
     "metadata": {},
     "output_type": "display_data"
    }
   ],
   "source": [
    "plt.scatter(df['x1'], df['x2'])\n",
    "plt.xlabel('x1') \n",
    "plt.ylabel('x2')\n",
    "plt.title('Relationship between x1 and x2')\n",
    "plt.show()"
   ]
  },
  {
   "cell_type": "markdown",
   "id": "d0cdb014",
   "metadata": {},
   "source": [
    "Here is the evidence graph which shows x2 increase with the value increase for the x1 and vice versa, these are highly correlated to each other."
   ]
  },
  {
   "cell_type": "markdown",
   "id": "4f2e205b",
   "metadata": {},
   "source": [
    "## (c) Using this data, fit a least squares regression to predict y using x1 and x2. \n",
    "Describe the results obtained. \n",
    "\n",
    "What are β0, β1, and β2? \n",
    "\n",
    "How do these relate to the true β0, β1, and β2? \n",
    "\n",
    "Can you reject the null hypothesis H0 : β1 = 0?\n",
    "\n",
    "How about the null hypothesis H0 : β2 = 0?"
   ]
  },
  {
   "cell_type": "code",
   "execution_count": 566,
   "id": "6696043e",
   "metadata": {},
   "outputs": [],
   "source": [
    "# creating new column name intercept and initializing it with 1, because this is representing the intercept \n",
    "df['intercept'] = 1"
   ]
  },
  {
   "cell_type": "code",
   "execution_count": 567,
   "id": "c6c69aa2",
   "metadata": {},
   "outputs": [],
   "source": [
    "# assign first two columns to X, and last to y\n",
    "X = df[['intercept', 'x1', 'x2']]\n",
    "y = df['y']"
   ]
  },
  {
   "cell_type": "code",
   "execution_count": 568,
   "id": "88f13c6e",
   "metadata": {},
   "outputs": [],
   "source": [
    "model = sm.OLS(y, X)\n",
    "\n",
    "# fit the model\n",
    "results = model.fit()"
   ]
  },
  {
   "cell_type": "markdown",
   "id": "8a222b14",
   "metadata": {},
   "source": [
    "**What are β0, β1, and β2?**"
   ]
  },
  {
   "cell_type": "code",
   "execution_count": 569,
   "id": "b923246f",
   "metadata": {},
   "outputs": [
    {
     "name": "stdout",
     "output_type": "stream",
     "text": [
      "Intercept β0: 1.957909291136692\n",
      "Coefficient for x1, β1: 1.6153676985271601\n",
      "Coefficient for x2, β2: 0.9427766991595036\n"
     ]
    }
   ],
   "source": [
    "# get the regression coefficients\n",
    "coefficients = results.params\n",
    "\n",
    "print(\"Intercept β0:\", coefficients[0])\n",
    "print(\"Coefficient for x1, β1:\", coefficients[1])\n",
    "print(\"Coefficient for x2, β2:\", coefficients[2])"
   ]
  },
  {
   "cell_type": "markdown",
   "id": "96e0816c",
   "metadata": {},
   "source": [
    "**How do these relate to the true β0, β1, and β2?**\n",
    "\n",
    "The cofficient I obtained are nearly close to ture coefficient but not the same"
   ]
  },
  {
   "cell_type": "markdown",
   "id": "7d4a57e9",
   "metadata": {},
   "source": [
    "**Can you reject the null hypothesis H0 : β1 = 0?**"
   ]
  },
  {
   "cell_type": "code",
   "execution_count": 570,
   "id": "d1974700",
   "metadata": {},
   "outputs": [
    {
     "data": {
      "text/html": [
       "<table class=\"simpletable\">\n",
       "<caption>OLS Regression Results</caption>\n",
       "<tr>\n",
       "  <th>Dep. Variable:</th>            <td>y</td>        <th>  R-squared:         </th> <td>   0.291</td>\n",
       "</tr>\n",
       "<tr>\n",
       "  <th>Model:</th>                   <td>OLS</td>       <th>  Adj. R-squared:    </th> <td>   0.276</td>\n",
       "</tr>\n",
       "<tr>\n",
       "  <th>Method:</th>             <td>Least Squares</td>  <th>  F-statistic:       </th> <td>   19.89</td>\n",
       "</tr>\n",
       "<tr>\n",
       "  <th>Date:</th>             <td>Wed, 17 Jan 2024</td> <th>  Prob (F-statistic):</th> <td>5.76e-08</td>\n",
       "</tr>\n",
       "<tr>\n",
       "  <th>Time:</th>                 <td>17:13:18</td>     <th>  Log-Likelihood:    </th> <td> -130.62</td>\n",
       "</tr>\n",
       "<tr>\n",
       "  <th>No. Observations:</th>      <td>   100</td>      <th>  AIC:               </th> <td>   267.2</td>\n",
       "</tr>\n",
       "<tr>\n",
       "  <th>Df Residuals:</th>          <td>    97</td>      <th>  BIC:               </th> <td>   275.1</td>\n",
       "</tr>\n",
       "<tr>\n",
       "  <th>Df Model:</th>              <td>     2</td>      <th>                     </th>     <td> </td>   \n",
       "</tr>\n",
       "<tr>\n",
       "  <th>Covariance Type:</th>      <td>nonrobust</td>    <th>                     </th>     <td> </td>   \n",
       "</tr>\n",
       "</table>\n",
       "<table class=\"simpletable\">\n",
       "<tr>\n",
       "      <td></td>         <th>coef</th>     <th>std err</th>      <th>t</th>      <th>P>|t|</th>  <th>[0.025</th>    <th>0.975]</th>  \n",
       "</tr>\n",
       "<tr>\n",
       "  <th>intercept</th> <td>    1.9579</td> <td>    0.190</td> <td>   10.319</td> <td> 0.000</td> <td>    1.581</td> <td>    2.334</td>\n",
       "</tr>\n",
       "<tr>\n",
       "  <th>x1</th>        <td>    1.6154</td> <td>    0.527</td> <td>    3.065</td> <td> 0.003</td> <td>    0.569</td> <td>    2.661</td>\n",
       "</tr>\n",
       "<tr>\n",
       "  <th>x2</th>        <td>    0.9428</td> <td>    0.831</td> <td>    1.134</td> <td> 0.259</td> <td>   -0.707</td> <td>    2.592</td>\n",
       "</tr>\n",
       "</table>\n",
       "<table class=\"simpletable\">\n",
       "<tr>\n",
       "  <th>Omnibus:</th>       <td> 0.051</td> <th>  Durbin-Watson:     </th> <td>   1.964</td>\n",
       "</tr>\n",
       "<tr>\n",
       "  <th>Prob(Omnibus):</th> <td> 0.975</td> <th>  Jarque-Bera (JB):  </th> <td>   0.041</td>\n",
       "</tr>\n",
       "<tr>\n",
       "  <th>Skew:</th>          <td>-0.036</td> <th>  Prob(JB):          </th> <td>   0.979</td>\n",
       "</tr>\n",
       "<tr>\n",
       "  <th>Kurtosis:</th>      <td> 2.931</td> <th>  Cond. No.          </th> <td>    11.9</td>\n",
       "</tr>\n",
       "</table><br/><br/>Notes:<br/>[1] Standard Errors assume that the covariance matrix of the errors is correctly specified."
      ],
      "text/plain": [
       "<class 'statsmodels.iolib.summary.Summary'>\n",
       "\"\"\"\n",
       "                            OLS Regression Results                            \n",
       "==============================================================================\n",
       "Dep. Variable:                      y   R-squared:                       0.291\n",
       "Model:                            OLS   Adj. R-squared:                  0.276\n",
       "Method:                 Least Squares   F-statistic:                     19.89\n",
       "Date:                Wed, 17 Jan 2024   Prob (F-statistic):           5.76e-08\n",
       "Time:                        17:13:18   Log-Likelihood:                -130.62\n",
       "No. Observations:                 100   AIC:                             267.2\n",
       "Df Residuals:                      97   BIC:                             275.1\n",
       "Df Model:                           2                                         \n",
       "Covariance Type:            nonrobust                                         \n",
       "==============================================================================\n",
       "                 coef    std err          t      P>|t|      [0.025      0.975]\n",
       "------------------------------------------------------------------------------\n",
       "intercept      1.9579      0.190     10.319      0.000       1.581       2.334\n",
       "x1             1.6154      0.527      3.065      0.003       0.569       2.661\n",
       "x2             0.9428      0.831      1.134      0.259      -0.707       2.592\n",
       "==============================================================================\n",
       "Omnibus:                        0.051   Durbin-Watson:                   1.964\n",
       "Prob(Omnibus):                  0.975   Jarque-Bera (JB):                0.041\n",
       "Skew:                          -0.036   Prob(JB):                        0.979\n",
       "Kurtosis:                       2.931   Cond. No.                         11.9\n",
       "==============================================================================\n",
       "\n",
       "Notes:\n",
       "[1] Standard Errors assume that the covariance matrix of the errors is correctly specified.\n",
       "\"\"\""
      ]
     },
     "execution_count": 570,
     "metadata": {},
     "output_type": "execute_result"
    }
   ],
   "source": [
    "results.summary()"
   ]
  },
  {
   "cell_type": "markdown",
   "id": "ea206eae",
   "metadata": {},
   "source": [
    "Yes, we can reject the null hypothesis because, t value for x1 is 3.065, which is greater than 0 proving that x1 have significant statistical relationship with y and the p value is suggesting that the relationship is not by chance there is relationship. "
   ]
  },
  {
   "cell_type": "markdown",
   "id": "660fde75",
   "metadata": {},
   "source": [
    "**How about the null hypothesis H0 : β2 = 0?**"
   ]
  },
  {
   "cell_type": "markdown",
   "id": "580fe7f0",
   "metadata": {},
   "source": [
    "We cannot reject the null hypothesis because, t value for x2 is 1.134, which is greater than 0 proving that x2 have some statistical relationship with y but looking at the p value against t, which is providing that the relationship is by chance, X2 does not have a significant statistical impact on y."
   ]
  },
  {
   "cell_type": "markdown",
   "id": "1f471b25",
   "metadata": {},
   "source": [
    "## (d) Now fit a least squares regression to predict y using only x1. \n",
    "\n",
    "Comment on your results. Can you reject the null hypothesis H0 :β1 =0?"
   ]
  },
  {
   "cell_type": "code",
   "execution_count": 571,
   "id": "5dfd9f86",
   "metadata": {},
   "outputs": [],
   "source": [
    "# assign first two columns to X, and last to y\n",
    "X = df[['intercept', 'x1']]\n",
    "y = df['y']"
   ]
  },
  {
   "cell_type": "code",
   "execution_count": 572,
   "id": "0de0b2fc",
   "metadata": {},
   "outputs": [
    {
     "data": {
      "text/html": [
       "<table class=\"simpletable\">\n",
       "<caption>OLS Regression Results</caption>\n",
       "<tr>\n",
       "  <th>Dep. Variable:</th>            <td>y</td>        <th>  R-squared:         </th> <td>   0.281</td>\n",
       "</tr>\n",
       "<tr>\n",
       "  <th>Model:</th>                   <td>OLS</td>       <th>  Adj. R-squared:    </th> <td>   0.274</td>\n",
       "</tr>\n",
       "<tr>\n",
       "  <th>Method:</th>             <td>Least Squares</td>  <th>  F-statistic:       </th> <td>   38.39</td>\n",
       "</tr>\n",
       "<tr>\n",
       "  <th>Date:</th>             <td>Wed, 17 Jan 2024</td> <th>  Prob (F-statistic):</th> <td>1.37e-08</td>\n",
       "</tr>\n",
       "<tr>\n",
       "  <th>Time:</th>                 <td>17:13:18</td>     <th>  Log-Likelihood:    </th> <td> -131.28</td>\n",
       "</tr>\n",
       "<tr>\n",
       "  <th>No. Observations:</th>      <td>   100</td>      <th>  AIC:               </th> <td>   266.6</td>\n",
       "</tr>\n",
       "<tr>\n",
       "  <th>Df Residuals:</th>          <td>    98</td>      <th>  BIC:               </th> <td>   271.8</td>\n",
       "</tr>\n",
       "<tr>\n",
       "  <th>Df Model:</th>              <td>     1</td>      <th>                     </th>     <td> </td>   \n",
       "</tr>\n",
       "<tr>\n",
       "  <th>Covariance Type:</th>      <td>nonrobust</td>    <th>                     </th>     <td> </td>   \n",
       "</tr>\n",
       "</table>\n",
       "<table class=\"simpletable\">\n",
       "<tr>\n",
       "      <td></td>         <th>coef</th>     <th>std err</th>      <th>t</th>      <th>P>|t|</th>  <th>[0.025</th>    <th>0.975]</th>  \n",
       "</tr>\n",
       "<tr>\n",
       "  <th>intercept</th> <td>    1.9371</td> <td>    0.189</td> <td>   10.242</td> <td> 0.000</td> <td>    1.562</td> <td>    2.312</td>\n",
       "</tr>\n",
       "<tr>\n",
       "  <th>x1</th>        <td>    2.0771</td> <td>    0.335</td> <td>    6.196</td> <td> 0.000</td> <td>    1.412</td> <td>    2.742</td>\n",
       "</tr>\n",
       "</table>\n",
       "<table class=\"simpletable\">\n",
       "<tr>\n",
       "  <th>Omnibus:</th>       <td> 0.204</td> <th>  Durbin-Watson:     </th> <td>   1.931</td>\n",
       "</tr>\n",
       "<tr>\n",
       "  <th>Prob(Omnibus):</th> <td> 0.903</td> <th>  Jarque-Bera (JB):  </th> <td>   0.042</td>\n",
       "</tr>\n",
       "<tr>\n",
       "  <th>Skew:</th>          <td>-0.046</td> <th>  Prob(JB):          </th> <td>   0.979</td>\n",
       "</tr>\n",
       "<tr>\n",
       "  <th>Kurtosis:</th>      <td> 3.038</td> <th>  Cond. No.          </th> <td>    4.65</td>\n",
       "</tr>\n",
       "</table><br/><br/>Notes:<br/>[1] Standard Errors assume that the covariance matrix of the errors is correctly specified."
      ],
      "text/plain": [
       "<class 'statsmodels.iolib.summary.Summary'>\n",
       "\"\"\"\n",
       "                            OLS Regression Results                            \n",
       "==============================================================================\n",
       "Dep. Variable:                      y   R-squared:                       0.281\n",
       "Model:                            OLS   Adj. R-squared:                  0.274\n",
       "Method:                 Least Squares   F-statistic:                     38.39\n",
       "Date:                Wed, 17 Jan 2024   Prob (F-statistic):           1.37e-08\n",
       "Time:                        17:13:18   Log-Likelihood:                -131.28\n",
       "No. Observations:                 100   AIC:                             266.6\n",
       "Df Residuals:                      98   BIC:                             271.8\n",
       "Df Model:                           1                                         \n",
       "Covariance Type:            nonrobust                                         \n",
       "==============================================================================\n",
       "                 coef    std err          t      P>|t|      [0.025      0.975]\n",
       "------------------------------------------------------------------------------\n",
       "intercept      1.9371      0.189     10.242      0.000       1.562       2.312\n",
       "x1             2.0771      0.335      6.196      0.000       1.412       2.742\n",
       "==============================================================================\n",
       "Omnibus:                        0.204   Durbin-Watson:                   1.931\n",
       "Prob(Omnibus):                  0.903   Jarque-Bera (JB):                0.042\n",
       "Skew:                          -0.046   Prob(JB):                        0.979\n",
       "Kurtosis:                       3.038   Cond. No.                         4.65\n",
       "==============================================================================\n",
       "\n",
       "Notes:\n",
       "[1] Standard Errors assume that the covariance matrix of the errors is correctly specified.\n",
       "\"\"\""
      ]
     },
     "execution_count": 572,
     "metadata": {},
     "output_type": "execute_result"
    }
   ],
   "source": [
    "model = sm.OLS(y, X)\n",
    "\n",
    "# fit the model\n",
    "results = model.fit()\n",
    "\n",
    "results.summary()"
   ]
  },
  {
   "cell_type": "markdown",
   "id": "1f1f4ead",
   "metadata": {},
   "source": [
    "Yes, we can reject the null hypothesis because, t value for x1 is 6.196, which is greater than 0 proving that x1 have significant statistical relationship with y and the p value is suggesting that the relationship is not by chance there is relationship."
   ]
  },
  {
   "cell_type": "markdown",
   "id": "34c5a622",
   "metadata": {},
   "source": [
    "## (e) Now fit a least squares regression to predict y using only x2. \n",
    "\n",
    "Comment on your results. Can you reject the null hypothesis H0 :β2 =0?"
   ]
  },
  {
   "cell_type": "code",
   "execution_count": 573,
   "id": "15b0080e",
   "metadata": {},
   "outputs": [],
   "source": [
    "# assign first two columns to X, and last to y\n",
    "X = df[['intercept', 'x2']]\n",
    "y = df['y']"
   ]
  },
  {
   "cell_type": "code",
   "execution_count": 574,
   "id": "aa7bae2a",
   "metadata": {},
   "outputs": [
    {
     "data": {
      "text/html": [
       "<table class=\"simpletable\">\n",
       "<caption>OLS Regression Results</caption>\n",
       "<tr>\n",
       "  <th>Dep. Variable:</th>            <td>y</td>        <th>  R-squared:         </th> <td>   0.222</td>\n",
       "</tr>\n",
       "<tr>\n",
       "  <th>Model:</th>                   <td>OLS</td>       <th>  Adj. R-squared:    </th> <td>   0.214</td>\n",
       "</tr>\n",
       "<tr>\n",
       "  <th>Method:</th>             <td>Least Squares</td>  <th>  F-statistic:       </th> <td>   27.99</td>\n",
       "</tr>\n",
       "<tr>\n",
       "  <th>Date:</th>             <td>Wed, 17 Jan 2024</td> <th>  Prob (F-statistic):</th> <td>7.43e-07</td>\n",
       "</tr>\n",
       "<tr>\n",
       "  <th>Time:</th>                 <td>17:13:18</td>     <th>  Log-Likelihood:    </th> <td> -135.24</td>\n",
       "</tr>\n",
       "<tr>\n",
       "  <th>No. Observations:</th>      <td>   100</td>      <th>  AIC:               </th> <td>   274.5</td>\n",
       "</tr>\n",
       "<tr>\n",
       "  <th>Df Residuals:</th>          <td>    98</td>      <th>  BIC:               </th> <td>   279.7</td>\n",
       "</tr>\n",
       "<tr>\n",
       "  <th>Df Model:</th>              <td>     1</td>      <th>                     </th>     <td> </td>   \n",
       "</tr>\n",
       "<tr>\n",
       "  <th>Covariance Type:</th>      <td>nonrobust</td>    <th>                     </th>     <td> </td>   \n",
       "</tr>\n",
       "</table>\n",
       "<table class=\"simpletable\">\n",
       "<tr>\n",
       "      <td></td>         <th>coef</th>     <th>std err</th>      <th>t</th>      <th>P>|t|</th>  <th>[0.025</th>    <th>0.975]</th>  \n",
       "</tr>\n",
       "<tr>\n",
       "  <th>intercept</th> <td>    2.3239</td> <td>    0.154</td> <td>   15.124</td> <td> 0.000</td> <td>    2.019</td> <td>    2.629</td>\n",
       "</tr>\n",
       "<tr>\n",
       "  <th>x2</th>        <td>    2.9103</td> <td>    0.550</td> <td>    5.291</td> <td> 0.000</td> <td>    1.819</td> <td>    4.002</td>\n",
       "</tr>\n",
       "</table>\n",
       "<table class=\"simpletable\">\n",
       "<tr>\n",
       "  <th>Omnibus:</th>       <td> 0.191</td> <th>  Durbin-Watson:     </th> <td>   1.943</td>\n",
       "</tr>\n",
       "<tr>\n",
       "  <th>Prob(Omnibus):</th> <td> 0.909</td> <th>  Jarque-Bera (JB):  </th> <td>   0.373</td>\n",
       "</tr>\n",
       "<tr>\n",
       "  <th>Skew:</th>          <td>-0.034</td> <th>  Prob(JB):          </th> <td>   0.830</td>\n",
       "</tr>\n",
       "<tr>\n",
       "  <th>Kurtosis:</th>      <td> 2.709</td> <th>  Cond. No.          </th> <td>    6.11</td>\n",
       "</tr>\n",
       "</table><br/><br/>Notes:<br/>[1] Standard Errors assume that the covariance matrix of the errors is correctly specified."
      ],
      "text/plain": [
       "<class 'statsmodels.iolib.summary.Summary'>\n",
       "\"\"\"\n",
       "                            OLS Regression Results                            \n",
       "==============================================================================\n",
       "Dep. Variable:                      y   R-squared:                       0.222\n",
       "Model:                            OLS   Adj. R-squared:                  0.214\n",
       "Method:                 Least Squares   F-statistic:                     27.99\n",
       "Date:                Wed, 17 Jan 2024   Prob (F-statistic):           7.43e-07\n",
       "Time:                        17:13:18   Log-Likelihood:                -135.24\n",
       "No. Observations:                 100   AIC:                             274.5\n",
       "Df Residuals:                      98   BIC:                             279.7\n",
       "Df Model:                           1                                         \n",
       "Covariance Type:            nonrobust                                         \n",
       "==============================================================================\n",
       "                 coef    std err          t      P>|t|      [0.025      0.975]\n",
       "------------------------------------------------------------------------------\n",
       "intercept      2.3239      0.154     15.124      0.000       2.019       2.629\n",
       "x2             2.9103      0.550      5.291      0.000       1.819       4.002\n",
       "==============================================================================\n",
       "Omnibus:                        0.191   Durbin-Watson:                   1.943\n",
       "Prob(Omnibus):                  0.909   Jarque-Bera (JB):                0.373\n",
       "Skew:                          -0.034   Prob(JB):                        0.830\n",
       "Kurtosis:                       2.709   Cond. No.                         6.11\n",
       "==============================================================================\n",
       "\n",
       "Notes:\n",
       "[1] Standard Errors assume that the covariance matrix of the errors is correctly specified.\n",
       "\"\"\""
      ]
     },
     "execution_count": 574,
     "metadata": {},
     "output_type": "execute_result"
    }
   ],
   "source": [
    "model = sm.OLS(y, X)\n",
    "\n",
    "# fit the model\n",
    "results = model.fit()\n",
    "\n",
    "results.summary()"
   ]
  },
  {
   "cell_type": "markdown",
   "id": "d9120a5a",
   "metadata": {},
   "source": [
    "Yes, we can reject the null hypothesis because, t value for x2 is 5.291, which is greater than 0 proving that x2 have significant statistical relationship with y and the p value is suggesting that the relationship is not by chance there is relationship. "
   ]
  },
  {
   "cell_type": "markdown",
   "id": "02ad0d4c",
   "metadata": {},
   "source": [
    "## (f) Do the results obtained in (c)–(e) contradict each other? Explain your answer."
   ]
  },
  {
   "cell_type": "markdown",
   "id": "31177d36",
   "metadata": {},
   "source": [
    "When training model with both x1 and x2, in the presence of x2 the standard error for β1 coef was high, and also the p value, because there is collinearity between x1 and x2. But there was relationship between x1 and response y.\n",
    "In c and d we reject the null hypothesis for β1.\n",
    "\n",
    "\n",
    "Similarly, in the c standard error for β2 was high, and we did not reject the null hypothesis for β2. because of p value means this is not relation between x2 and response y, but when we trained the model only with x2 in e, it performed well and reject the null hypothesis. "
   ]
  },
  {
   "cell_type": "markdown",
   "id": "6f871318",
   "metadata": {},
   "source": [
    "## (g) Suppose we obtain one additional observation, which was unfortunately mismeasured. \n",
    "\n",
    "We use the function np.concatenate() to add this additional observation to each of x1, x2 and y.\n",
    "\n",
    "x1 = np.concatenate([x1, [0.1]]) \n",
    "\n",
    "x2 = np.concatenate([x2, [0.8]]) \n",
    "\n",
    "y = np.concatenate([y, [6]])\n",
    "\n",
    "1. Re-fit the linear models from (c) to (e) using this new data. What effect does this new observation have on the each of the models? \n",
    "\n",
    "2. In each model, is this observation an outlier? A high-leverage point? Both? Explain your answers."
   ]
  },
  {
   "cell_type": "markdown",
   "id": "7c383bd8",
   "metadata": {},
   "source": [
    "### Re-fit the linear models from (c) to (e) using this new data. What effect does this new observation have on the each of the models?"
   ]
  },
  {
   "cell_type": "code",
   "execution_count": 575,
   "id": "4fcafb64",
   "metadata": {},
   "outputs": [],
   "source": [
    "x1 = np.concatenate([x1, [0.1]])\n",
    "\n",
    "x2 = np.concatenate([x2, [0.8]])\n",
    "\n",
    "y = np.concatenate([y, [6]])"
   ]
  },
  {
   "cell_type": "code",
   "execution_count": 576,
   "id": "35feb3f7",
   "metadata": {},
   "outputs": [
    {
     "data": {
      "text/plain": [
       "(101, 4)"
      ]
     },
     "execution_count": 576,
     "metadata": {},
     "output_type": "execute_result"
    }
   ],
   "source": [
    "df = pd.DataFrame({'x1' : x1, 'x2': x2, 'y': y, 'intercept': 1})\n",
    "df.shape"
   ]
  },
  {
   "cell_type": "markdown",
   "id": "f015c7b8",
   "metadata": {},
   "source": [
    "#### (c) Using this data, fit a least squares regression to predict y using x1 and x2."
   ]
  },
  {
   "cell_type": "code",
   "execution_count": 577,
   "id": "4d1e28e5",
   "metadata": {},
   "outputs": [],
   "source": [
    "# assign first two columns to X, and last to y\n",
    "X = df[['intercept', 'x1', 'x2']]\n",
    "y = df['y']"
   ]
  },
  {
   "cell_type": "code",
   "execution_count": 578,
   "id": "9fdfae4a",
   "metadata": {},
   "outputs": [],
   "source": [
    "model_c_g = sm.OLS(y, X)\n",
    "\n",
    "# fit the model\n",
    "result_c_g = model_c_g.fit()"
   ]
  },
  {
   "cell_type": "code",
   "execution_count": 579,
   "id": "95adb0f7",
   "metadata": {},
   "outputs": [
    {
     "name": "stdout",
     "output_type": "stream",
     "text": [
      "Intercept β0: 2.061791259758458\n",
      "Coefficient for x1, β1: 0.8575448183694937\n",
      "Coefficient for x2, β2: 2.266323487691045\n"
     ]
    }
   ],
   "source": [
    "# get the regression coefficients\n",
    "coefficients = result_c_g.params\n",
    "\n",
    "print(\"Intercept β0:\", coefficients[0])\n",
    "print(\"Coefficient for x1, β1:\", coefficients[1])\n",
    "print(\"Coefficient for x2, β2:\", coefficients[2])"
   ]
  },
  {
   "cell_type": "markdown",
   "id": "da27a616",
   "metadata": {},
   "source": [
    "The cofficient we obtained now are nearly close to ture coefficient but not the same"
   ]
  },
  {
   "cell_type": "code",
   "execution_count": 580,
   "id": "295c8601",
   "metadata": {},
   "outputs": [
    {
     "data": {
      "text/html": [
       "<div>\n",
       "<style scoped>\n",
       "    .dataframe tbody tr th:only-of-type {\n",
       "        vertical-align: middle;\n",
       "    }\n",
       "\n",
       "    .dataframe tbody tr th {\n",
       "        vertical-align: top;\n",
       "    }\n",
       "\n",
       "    .dataframe thead th {\n",
       "        text-align: right;\n",
       "    }\n",
       "</style>\n",
       "<table border=\"1\" class=\"dataframe\">\n",
       "  <thead>\n",
       "    <tr style=\"text-align: right;\">\n",
       "      <th></th>\n",
       "      <th>coef</th>\n",
       "      <th>std err</th>\n",
       "      <th>t</th>\n",
       "      <th>P&gt;|t|</th>\n",
       "    </tr>\n",
       "  </thead>\n",
       "  <tbody>\n",
       "    <tr>\n",
       "      <th>intercept</th>\n",
       "      <td>2.0618</td>\n",
       "      <td>0.192</td>\n",
       "      <td>10.720</td>\n",
       "      <td>0.000</td>\n",
       "    </tr>\n",
       "    <tr>\n",
       "      <th>x1</th>\n",
       "      <td>0.8575</td>\n",
       "      <td>0.466</td>\n",
       "      <td>1.838</td>\n",
       "      <td>0.069</td>\n",
       "    </tr>\n",
       "    <tr>\n",
       "      <th>x2</th>\n",
       "      <td>2.2663</td>\n",
       "      <td>0.705</td>\n",
       "      <td>3.216</td>\n",
       "      <td>0.002</td>\n",
       "    </tr>\n",
       "  </tbody>\n",
       "</table>\n",
       "</div>"
      ],
      "text/plain": [
       "             coef  std err       t  P>|t|\n",
       "intercept  2.0618    0.192  10.720  0.000\n",
       "x1         0.8575    0.466   1.838  0.069\n",
       "x2         2.2663    0.705   3.216  0.002"
      ]
     },
     "execution_count": 580,
     "metadata": {},
     "output_type": "execute_result"
    }
   ],
   "source": [
    "summarize(result_c_g)"
   ]
  },
  {
   "cell_type": "markdown",
   "id": "670b90a0",
   "metadata": {},
   "source": [
    "**How about the null hypothesis H0 : β1 = 0?**\n",
    "\n",
    "Now when adding the noise, we canot reject the null hypothesis because, t value for x1 is 1.838, which is greater than 0 proving that x1 have significant statistical relationship with y, but the p value is suggesting that the relationship is by chance there is no significant relationship, based on the p value we cannot reject it.\n",
    "\n",
    "**How about the null hypothesis H0 : β2 = 0?**\n",
    "\n",
    "I can reject the null hypothesis because, t value for x2 is 3.216, which is greater than 0 proving that x2 have some statistical relationship with y and looking at the p value against t, which is suggesting that the relationship is by not by chance, X2 have a significant statistical impact on y."
   ]
  },
  {
   "cell_type": "markdown",
   "id": "8c357b14",
   "metadata": {},
   "source": [
    "#### (d) Now fit a least squares regression to predict y using only x1. \n",
    "\n",
    "Comment on your results. Can you reject the null hypothesis H0 :β1 =0?"
   ]
  },
  {
   "cell_type": "code",
   "execution_count": 581,
   "id": "9a438713",
   "metadata": {},
   "outputs": [
    {
     "data": {
      "text/html": [
       "<table class=\"simpletable\">\n",
       "<caption>OLS Regression Results</caption>\n",
       "<tr>\n",
       "  <th>Dep. Variable:</th>            <td>y</td>        <th>  R-squared:         </th> <td>   0.217</td>\n",
       "</tr>\n",
       "<tr>\n",
       "  <th>Model:</th>                   <td>OLS</td>       <th>  Adj. R-squared:    </th> <td>   0.209</td>\n",
       "</tr>\n",
       "<tr>\n",
       "  <th>Method:</th>             <td>Least Squares</td>  <th>  F-statistic:       </th> <td>   27.42</td>\n",
       "</tr>\n",
       "<tr>\n",
       "  <th>Date:</th>             <td>Wed, 17 Jan 2024</td> <th>  Prob (F-statistic):</th> <td>9.23e-07</td>\n",
       "</tr>\n",
       "<tr>\n",
       "  <th>Time:</th>                 <td>17:13:23</td>     <th>  Log-Likelihood:    </th> <td> -140.37</td>\n",
       "</tr>\n",
       "<tr>\n",
       "  <th>No. Observations:</th>      <td>   101</td>      <th>  AIC:               </th> <td>   284.7</td>\n",
       "</tr>\n",
       "<tr>\n",
       "  <th>Df Residuals:</th>          <td>    99</td>      <th>  BIC:               </th> <td>   290.0</td>\n",
       "</tr>\n",
       "<tr>\n",
       "  <th>Df Model:</th>              <td>     1</td>      <th>                     </th>     <td> </td>   \n",
       "</tr>\n",
       "<tr>\n",
       "  <th>Covariance Type:</th>      <td>nonrobust</td>    <th>                     </th>     <td> </td>   \n",
       "</tr>\n",
       "</table>\n",
       "<table class=\"simpletable\">\n",
       "<tr>\n",
       "      <td></td>         <th>coef</th>     <th>std err</th>      <th>t</th>      <th>P>|t|</th>  <th>[0.025</th>    <th>0.975]</th>  \n",
       "</tr>\n",
       "<tr>\n",
       "  <th>intercept</th> <td>    2.0739</td> <td>    0.201</td> <td>   10.310</td> <td> 0.000</td> <td>    1.675</td> <td>    2.473</td>\n",
       "</tr>\n",
       "<tr>\n",
       "  <th>x1</th>        <td>    1.8760</td> <td>    0.358</td> <td>    5.236</td> <td> 0.000</td> <td>    1.165</td> <td>    2.587</td>\n",
       "</tr>\n",
       "</table>\n",
       "<table class=\"simpletable\">\n",
       "<tr>\n",
       "  <th>Omnibus:</th>       <td> 8.232</td> <th>  Durbin-Watson:     </th> <td>   1.636</td>\n",
       "</tr>\n",
       "<tr>\n",
       "  <th>Prob(Omnibus):</th> <td> 0.016</td> <th>  Jarque-Bera (JB):  </th> <td>  10.781</td>\n",
       "</tr>\n",
       "<tr>\n",
       "  <th>Skew:</th>          <td> 0.396</td> <th>  Prob(JB):          </th> <td> 0.00456</td>\n",
       "</tr>\n",
       "<tr>\n",
       "  <th>Kurtosis:</th>      <td> 4.391</td> <th>  Cond. No.          </th> <td>    4.61</td>\n",
       "</tr>\n",
       "</table><br/><br/>Notes:<br/>[1] Standard Errors assume that the covariance matrix of the errors is correctly specified."
      ],
      "text/plain": [
       "<class 'statsmodels.iolib.summary.Summary'>\n",
       "\"\"\"\n",
       "                            OLS Regression Results                            \n",
       "==============================================================================\n",
       "Dep. Variable:                      y   R-squared:                       0.217\n",
       "Model:                            OLS   Adj. R-squared:                  0.209\n",
       "Method:                 Least Squares   F-statistic:                     27.42\n",
       "Date:                Wed, 17 Jan 2024   Prob (F-statistic):           9.23e-07\n",
       "Time:                        17:13:23   Log-Likelihood:                -140.37\n",
       "No. Observations:                 101   AIC:                             284.7\n",
       "Df Residuals:                      99   BIC:                             290.0\n",
       "Df Model:                           1                                         \n",
       "Covariance Type:            nonrobust                                         \n",
       "==============================================================================\n",
       "                 coef    std err          t      P>|t|      [0.025      0.975]\n",
       "------------------------------------------------------------------------------\n",
       "intercept      2.0739      0.201     10.310      0.000       1.675       2.473\n",
       "x1             1.8760      0.358      5.236      0.000       1.165       2.587\n",
       "==============================================================================\n",
       "Omnibus:                        8.232   Durbin-Watson:                   1.636\n",
       "Prob(Omnibus):                  0.016   Jarque-Bera (JB):               10.781\n",
       "Skew:                           0.396   Prob(JB):                      0.00456\n",
       "Kurtosis:                       4.391   Cond. No.                         4.61\n",
       "==============================================================================\n",
       "\n",
       "Notes:\n",
       "[1] Standard Errors assume that the covariance matrix of the errors is correctly specified.\n",
       "\"\"\""
      ]
     },
     "execution_count": 581,
     "metadata": {},
     "output_type": "execute_result"
    }
   ],
   "source": [
    "# assign first two columns to X, and last to y\n",
    "X = df[['intercept', 'x1']]\n",
    "y = df['y']\n",
    "\n",
    "model_d_g = sm.OLS(y, X)\n",
    "\n",
    "# fit the model\n",
    "result_d_g = model_d_g.fit()\n",
    "\n",
    "result_d_g.summary()"
   ]
  },
  {
   "cell_type": "markdown",
   "id": "d30a62f4",
   "metadata": {},
   "source": [
    "Yes, I can reject the null hypothesis because, t value for x1 is 5.236, which is greater than 0 proving that x1 have significant statistical relationship with y and the p value is proving that the relationship is not by chance there is relationship."
   ]
  },
  {
   "cell_type": "markdown",
   "id": "5ce43f48",
   "metadata": {},
   "source": [
    "#### (e) Now fit a least squares regression to predict y using only x2. \n",
    "\n",
    "Comment on your results. Can you reject the null hypothesis H0 :β2 =0?"
   ]
  },
  {
   "cell_type": "code",
   "execution_count": 582,
   "id": "d4cb8ac0",
   "metadata": {},
   "outputs": [
    {
     "data": {
      "text/html": [
       "<table class=\"simpletable\">\n",
       "<caption>OLS Regression Results</caption>\n",
       "<tr>\n",
       "  <th>Dep. Variable:</th>            <td>y</td>        <th>  R-squared:         </th> <td>   0.267</td>\n",
       "</tr>\n",
       "<tr>\n",
       "  <th>Model:</th>                   <td>OLS</td>       <th>  Adj. R-squared:    </th> <td>   0.260</td>\n",
       "</tr>\n",
       "<tr>\n",
       "  <th>Method:</th>             <td>Least Squares</td>  <th>  F-statistic:       </th> <td>   36.10</td>\n",
       "</tr>\n",
       "<tr>\n",
       "  <th>Date:</th>             <td>Wed, 17 Jan 2024</td> <th>  Prob (F-statistic):</th> <td>3.13e-08</td>\n",
       "</tr>\n",
       "<tr>\n",
       "  <th>Time:</th>                 <td>17:13:25</td>     <th>  Log-Likelihood:    </th> <td> -137.01</td>\n",
       "</tr>\n",
       "<tr>\n",
       "  <th>No. Observations:</th>      <td>   101</td>      <th>  AIC:               </th> <td>   278.0</td>\n",
       "</tr>\n",
       "<tr>\n",
       "  <th>Df Residuals:</th>          <td>    99</td>      <th>  BIC:               </th> <td>   283.3</td>\n",
       "</tr>\n",
       "<tr>\n",
       "  <th>Df Model:</th>              <td>     1</td>      <th>                     </th>     <td> </td>   \n",
       "</tr>\n",
       "<tr>\n",
       "  <th>Covariance Type:</th>      <td>nonrobust</td>    <th>                     </th>     <td> </td>   \n",
       "</tr>\n",
       "</table>\n",
       "<table class=\"simpletable\">\n",
       "<tr>\n",
       "      <td></td>         <th>coef</th>     <th>std err</th>      <th>t</th>      <th>P>|t|</th>  <th>[0.025</th>    <th>0.975]</th>  \n",
       "</tr>\n",
       "<tr>\n",
       "  <th>intercept</th> <td>    2.2840</td> <td>    0.151</td> <td>   15.088</td> <td> 0.000</td> <td>    1.984</td> <td>    2.584</td>\n",
       "</tr>\n",
       "<tr>\n",
       "  <th>x2</th>        <td>    3.1458</td> <td>    0.524</td> <td>    6.008</td> <td> 0.000</td> <td>    2.107</td> <td>    4.185</td>\n",
       "</tr>\n",
       "</table>\n",
       "<table class=\"simpletable\">\n",
       "<tr>\n",
       "  <th>Omnibus:</th>       <td> 0.495</td> <th>  Durbin-Watson:     </th> <td>   1.939</td>\n",
       "</tr>\n",
       "<tr>\n",
       "  <th>Prob(Omnibus):</th> <td> 0.781</td> <th>  Jarque-Bera (JB):  </th> <td>   0.631</td>\n",
       "</tr>\n",
       "<tr>\n",
       "  <th>Skew:</th>          <td>-0.041</td> <th>  Prob(JB):          </th> <td>   0.729</td>\n",
       "</tr>\n",
       "<tr>\n",
       "  <th>Kurtosis:</th>      <td> 2.621</td> <th>  Cond. No.          </th> <td>    5.84</td>\n",
       "</tr>\n",
       "</table><br/><br/>Notes:<br/>[1] Standard Errors assume that the covariance matrix of the errors is correctly specified."
      ],
      "text/plain": [
       "<class 'statsmodels.iolib.summary.Summary'>\n",
       "\"\"\"\n",
       "                            OLS Regression Results                            \n",
       "==============================================================================\n",
       "Dep. Variable:                      y   R-squared:                       0.267\n",
       "Model:                            OLS   Adj. R-squared:                  0.260\n",
       "Method:                 Least Squares   F-statistic:                     36.10\n",
       "Date:                Wed, 17 Jan 2024   Prob (F-statistic):           3.13e-08\n",
       "Time:                        17:13:25   Log-Likelihood:                -137.01\n",
       "No. Observations:                 101   AIC:                             278.0\n",
       "Df Residuals:                      99   BIC:                             283.3\n",
       "Df Model:                           1                                         \n",
       "Covariance Type:            nonrobust                                         \n",
       "==============================================================================\n",
       "                 coef    std err          t      P>|t|      [0.025      0.975]\n",
       "------------------------------------------------------------------------------\n",
       "intercept      2.2840      0.151     15.088      0.000       1.984       2.584\n",
       "x2             3.1458      0.524      6.008      0.000       2.107       4.185\n",
       "==============================================================================\n",
       "Omnibus:                        0.495   Durbin-Watson:                   1.939\n",
       "Prob(Omnibus):                  0.781   Jarque-Bera (JB):                0.631\n",
       "Skew:                          -0.041   Prob(JB):                        0.729\n",
       "Kurtosis:                       2.621   Cond. No.                         5.84\n",
       "==============================================================================\n",
       "\n",
       "Notes:\n",
       "[1] Standard Errors assume that the covariance matrix of the errors is correctly specified.\n",
       "\"\"\""
      ]
     },
     "execution_count": 582,
     "metadata": {},
     "output_type": "execute_result"
    }
   ],
   "source": [
    "# assign first two columns to X, and last to y\n",
    "X = df[['intercept', 'x2']]\n",
    "y = df['y']\n",
    "\n",
    "model_e_g = sm.OLS(y, X)\n",
    "\n",
    "# fit the model\n",
    "result_e_g = model_e_g.fit()\n",
    "\n",
    "result_e_g.summary()"
   ]
  },
  {
   "cell_type": "markdown",
   "id": "8595e23a",
   "metadata": {},
   "source": [
    "Yes, I can reject the null hypothesis because, t value for x2 is 6.008, which is greater than 0 proving that x2 have significant statistical relationship with y and the p value is proving that the relationship is not by chance there is relationship. "
   ]
  },
  {
   "cell_type": "markdown",
   "id": "8934b56a",
   "metadata": {},
   "source": [
    "**Coclusion** When adding the noise in the dataset, p1 which was highly sisignificant before, now suggesting there is no relation between x1 and y, because of the 1 noise it does not reject the null hypothesis, and also coefficient value is changed."
   ]
  },
  {
   "cell_type": "markdown",
   "id": "1cc97368",
   "metadata": {},
   "source": [
    "### In each model, is this observation an outlier? A high-leverage point? Both? Explain your answers."
   ]
  },
  {
   "cell_type": "markdown",
   "id": "47495971",
   "metadata": {},
   "source": [
    "### Model c"
   ]
  },
  {
   "cell_type": "code",
   "execution_count": 583,
   "id": "c346dce7",
   "metadata": {},
   "outputs": [
    {
     "data": {
      "image/png": "[encoded data removed]",
      "text/plain": [
       "<Figure size 640x480 with 1 Axes>"
      ]
     },
     "metadata": {},
     "output_type": "display_data"
    }
   ],
   "source": [
    "plt.scatter(result_c_g.fittedvalues, result_c_g.resid)\n",
    "plt.xlabel('Fitted value') \n",
    "plt.ylabel('Residual')\n",
    "plt.scatter(result_c_g.fittedvalues.iloc[-1], result_c_g.resid.iloc[-1], color='red')\n",
    "# have color black and dashed line\n",
    "plt.axhline(0, c='k', ls='--');\n",
    "plt.show()"
   ]
  },
  {
   "cell_type": "markdown",
   "id": "ab4a6eda",
   "metadata": {},
   "source": [
    "### Model d"
   ]
  },
  {
   "cell_type": "code",
   "execution_count": 584,
   "id": "130ae43d",
   "metadata": {},
   "outputs": [
    {
     "data": {
      "image/png": "[encoded data removed]",
      "text/plain": [
       "<Figure size 640x480 with 1 Axes>"
      ]
     },
     "metadata": {},
     "output_type": "display_data"
    }
   ],
   "source": [
    "plt.scatter(result_d_g.fittedvalues, result_d_g.resid)\n",
    "plt.xlabel('Fitted value') \n",
    "plt.ylabel('Residual')\n",
    "plt.scatter(result_d_g.fittedvalues.iloc[-1], result_d_g.resid.iloc[-1], color='red')\n",
    "# have color black and dashed line\n",
    "plt.axhline(0, c='k', ls='--')\n",
    "plt.show()"
   ]
  },
  {
   "cell_type": "markdown",
   "id": "5148b801",
   "metadata": {},
   "source": [
    "**In model d its an outlier**"
   ]
  },
  {
   "cell_type": "markdown",
   "id": "bb94213c",
   "metadata": {},
   "source": [
    "### Model e"
   ]
  },
  {
   "cell_type": "code",
   "execution_count": 585,
   "id": "6dc71155",
   "metadata": {},
   "outputs": [
    {
     "data": {
      "image/png": "[encoded data removed]",
      "text/plain": [
       "<Figure size 640x480 with 1 Axes>"
      ]
     },
     "metadata": {},
     "output_type": "display_data"
    }
   ],
   "source": [
    "plt.scatter(result_e_g.fittedvalues, result_e_g.resid)\n",
    "plt.xlabel('Fitted value') \n",
    "plt.ylabel('Residual')\n",
    "plt.scatter(result_e_g.fittedvalues.iloc[-1], result_e_g.resid.iloc[-1], color='red')\n",
    "# have color black and dashed line\n",
    "plt.axhline(0, c='k', ls='--')\n",
    "plt.show()"
   ]
  },
  {
   "cell_type": "markdown",
   "id": "1ab12b27",
   "metadata": {},
   "source": [
    "**In model e its an high leverage point**"
   ]
  }
 ],
 "metadata": {
  "kernelspec": {
   "display_name": "Python 3 (ipykernel)",
   "language": "python",
   "name": "python3"
  },
  "language_info": {
   "codemirror_mode": {
    "name": "ipython",
    "version": 3
   },
   "file_extension": ".py",
   "mimetype": "text/x-python",
   "name": "python",
   "nbconvert_exporter": "python",
   "pygments_lexer": "ipython3",
   "version": "3.10.9"
  }
 },
 "nbformat": 4,
 "nbformat_minor": 5
}
