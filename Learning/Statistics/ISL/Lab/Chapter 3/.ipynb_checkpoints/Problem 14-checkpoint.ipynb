{
 "cells": [
  {
   "cell_type": "markdown",
   "id": "0a76c08e",
   "metadata": {},
   "source": [
    "# 14. This problem focuses on the collinearity problem."
   ]
  },
  {
   "cell_type": "code",
   "execution_count": 231,
   "id": "54506af0",
   "metadata": {},
   "outputs": [],
   "source": [
    "import pandas as pd\n",
    "import numpy as np\n",
    "\n",
    "import statsmodels.api as sm\n",
    "from ISLP.models import summarize\n",
    "\n",
    "import matplotlib.pyplot as plt"
   ]
  },
  {
   "cell_type": "markdown",
   "id": "b3ebf2a9",
   "metadata": {},
   "source": [
    "## (a) Perform the following commands in Python\n",
    "\n",
    "The last line corresponds to creating a linear model in which y is a function of x1 and x2. Write out the form of the linear model. What are the regression coefficients?"
   ]
  },
  {
   "cell_type": "code",
   "execution_count": 232,
   "id": "77345c29",
   "metadata": {},
   "outputs": [],
   "source": [
    "rng = np.random.default_rng(10)\n",
    "x1 = rng.uniform(0, 1, size=100)\n",
    "x2 = 0.5 * x1 + rng.normal(size=100) / 10\n",
    "y = 2 + 2 * x1 + 0.3 * x2 + rng.normal(size=100)"
   ]
  },
  {
   "cell_type": "code",
   "execution_count": 233,
   "id": "e8842da3",
   "metadata": {},
   "outputs": [
    {
     "data": {
      "text/html": [
       "<div>\n",
       "<style scoped>\n",
       "    .dataframe tbody tr th:only-of-type {\n",
       "        vertical-align: middle;\n",
       "    }\n",
       "\n",
       "    .dataframe tbody tr th {\n",
       "        vertical-align: top;\n",
       "    }\n",
       "\n",
       "    .dataframe thead th {\n",
       "        text-align: right;\n",
       "    }\n",
       "</style>\n",
       "<table border=\"1\" class=\"dataframe\">\n",
       "  <thead>\n",
       "    <tr style=\"text-align: right;\">\n",
       "      <th></th>\n",
       "      <th>x1</th>\n",
       "      <th>x2</th>\n",
       "      <th>y</th>\n",
       "    </tr>\n",
       "  </thead>\n",
       "  <tbody>\n",
       "    <tr>\n",
       "      <th>0</th>\n",
       "      <td>0.956002</td>\n",
       "      <td>0.469359</td>\n",
       "      <td>4.356977</td>\n",
       "    </tr>\n",
       "    <tr>\n",
       "      <th>1</th>\n",
       "      <td>0.207682</td>\n",
       "      <td>0.142509</td>\n",
       "      <td>3.677789</td>\n",
       "    </tr>\n",
       "    <tr>\n",
       "      <th>2</th>\n",
       "      <td>0.828445</td>\n",
       "      <td>0.587699</td>\n",
       "      <td>3.482079</td>\n",
       "    </tr>\n",
       "    <tr>\n",
       "      <th>3</th>\n",
       "      <td>0.149282</td>\n",
       "      <td>0.181141</td>\n",
       "      <td>2.369093</td>\n",
       "    </tr>\n",
       "    <tr>\n",
       "      <th>4</th>\n",
       "      <td>0.512805</td>\n",
       "      <td>0.236458</td>\n",
       "      <td>1.413295</td>\n",
       "    </tr>\n",
       "  </tbody>\n",
       "</table>\n",
       "</div>"
      ],
      "text/plain": [
       "         x1        x2         y\n",
       "0  0.956002  0.469359  4.356977\n",
       "1  0.207682  0.142509  3.677789\n",
       "2  0.828445  0.587699  3.482079\n",
       "3  0.149282  0.181141  2.369093\n",
       "4  0.512805  0.236458  1.413295"
      ]
     },
     "execution_count": 233,
     "metadata": {},
     "output_type": "execute_result"
    }
   ],
   "source": [
    "# make a dataframe with intercept, x1, x2, and y columns\n",
    "df = pd.DataFrame({'x1' : x1, 'x2': x2, 'y': y})\n",
    "df.head()"
   ]
  },
  {
   "cell_type": "markdown",
   "id": "bc68f9db",
   "metadata": {},
   "source": [
    "Here is the form of linear model\n",
    "\n",
    "Y = β0 + (β1 * X1) + (β2 * β2) + ε\n",
    "\n",
    "β0 = 2\n",
    "\n",
    "β1 = 2\n",
    "\n",
    "β2 = 0.3"
   ]
  },
  {
   "cell_type": "markdown",
   "id": "a65729cc",
   "metadata": {},
   "source": [
    "## (b) What is the correlation between x1 and x2? \n",
    "\n",
    "Create a scatterplot displaying the relationship between the variables."
   ]
  },
  {
   "cell_type": "code",
   "execution_count": 234,
   "id": "5e2408a3",
   "metadata": {},
   "outputs": [
    {
     "data": {
      "text/html": [
       "<div>\n",
       "<style scoped>\n",
       "    .dataframe tbody tr th:only-of-type {\n",
       "        vertical-align: middle;\n",
       "    }\n",
       "\n",
       "    .dataframe tbody tr th {\n",
       "        vertical-align: top;\n",
       "    }\n",
       "\n",
       "    .dataframe thead th {\n",
       "        text-align: right;\n",
       "    }\n",
       "</style>\n",
       "<table border=\"1\" class=\"dataframe\">\n",
       "  <thead>\n",
       "    <tr style=\"text-align: right;\">\n",
       "      <th></th>\n",
       "      <th>x1</th>\n",
       "      <th>x2</th>\n",
       "    </tr>\n",
       "  </thead>\n",
       "  <tbody>\n",
       "    <tr>\n",
       "      <th>x1</th>\n",
       "      <td>1.000000</td>\n",
       "      <td>0.772324</td>\n",
       "    </tr>\n",
       "    <tr>\n",
       "      <th>x2</th>\n",
       "      <td>0.772324</td>\n",
       "      <td>1.000000</td>\n",
       "    </tr>\n",
       "  </tbody>\n",
       "</table>\n",
       "</div>"
      ],
      "text/plain": [
       "          x1        x2\n",
       "x1  1.000000  0.772324\n",
       "x2  0.772324  1.000000"
      ]
     },
     "execution_count": 234,
     "metadata": {},
     "output_type": "execute_result"
    }
   ],
   "source": [
    "df[['x1','x2']].corr()"
   ]
  },
  {
   "cell_type": "markdown",
   "id": "83d133db",
   "metadata": {},
   "source": [
    "The correlation values between x1 and x2 is 0.77 suggesting highly correlated"
   ]
  },
  {
   "cell_type": "code",
   "execution_count": 235,
   "id": "41b511b1",
   "metadata": {},
   "outputs": [
    {
     "data": {
      "image/png": "[encoded data removed]",
      "text/plain": [
       "<Figure size 630x500 with 1 Axes>"
      ]
     },
     "metadata": {},
     "output_type": "display_data"
    }
   ],
   "source": [
    "fig, ax = plt.subplots(figsize=(6.3,5))\n",
    "ax.scatter(df['x1'], df['x2'])\n",
    "ax.set_xlabel('x1') \n",
    "ax.set_ylabel('x2')\n",
    "ax.set_title('Relationship between x1 and x2')\n",
    "plt.show()"
   ]
  },
  {
   "cell_type": "markdown",
   "id": "0b2a46fa",
   "metadata": {},
   "source": [
    "Here is the evidence graph which shows x2 increase with the value increase for the x1 and vice versa, these are highly correlated to each other."
   ]
  },
  {
   "cell_type": "markdown",
   "id": "8260202a",
   "metadata": {},
   "source": [
    "## (c) Using this data, fit a least squares regression to predict y using x1 and x2. \n",
    "Describe the results obtained. \n",
    "\n",
    "What are βˆ0, βˆ1, and βˆ2? \n",
    "\n",
    "How do these relate to the true β0, β1, and β2? \n",
    "\n",
    "Can you reject the null hypothesis H0 : β1 = 0?\n",
    "\n",
    "How about the null hypothesis H0 : β2 = 0?"
   ]
  },
  {
   "cell_type": "code",
   "execution_count": 236,
   "id": "f7ee5de1",
   "metadata": {},
   "outputs": [],
   "source": [
    "# creating new column name intercept and initializing it with 1, because this is representing the intercept \n",
    "df['intercept'] = 1"
   ]
  },
  {
   "cell_type": "code",
   "execution_count": 237,
   "id": "a26c9436",
   "metadata": {},
   "outputs": [],
   "source": [
    "# assign first two columns to X, and last to y\n",
    "X = df[['intercept', 'x1', 'x2']]\n",
    "y = df['y']"
   ]
  },
  {
   "cell_type": "code",
   "execution_count": 241,
   "id": "05a75078",
   "metadata": {},
   "outputs": [],
   "source": [
    "model = sm.OLS(y, X)\n",
    "\n",
    "# fit the model\n",
    "results = model.fit()"
   ]
  },
  {
   "cell_type": "markdown",
   "id": "58826664",
   "metadata": {},
   "source": [
    "**What are βˆ0, βˆ1, and βˆ2?**"
   ]
  },
  {
   "cell_type": "code",
   "execution_count": 242,
   "id": "47a4f309",
   "metadata": {},
   "outputs": [
    {
     "name": "stdout",
     "output_type": "stream",
     "text": [
      "Intercept β0: 1.957909291136692\n",
      "Coefficient for x1 β1: 1.6153676985271601\n",
      "Coefficient for x2 β2: 0.9427766991595036\n"
     ]
    }
   ],
   "source": [
    "# get the regression coefficients\n",
    "coefficients = results.params\n",
    "\n",
    "print(\"Intercept β0:\", coefficients[0])\n",
    "print(\"Coefficient for x1 β1:\", coefficients[1])\n",
    "print(\"Coefficient for x2 β2:\", coefficients[2])"
   ]
  },
  {
   "cell_type": "markdown",
   "id": "e8cc70e9",
   "metadata": {},
   "source": [
    "**How do these relate to the true β0, β1, and β2?**\n",
    "\n",
    "The cofficient I obtained are nearly close to ture coefficient but not the same"
   ]
  },
  {
   "cell_type": "markdown",
   "id": "4a41d995",
   "metadata": {},
   "source": [
    "**Can you reject the null hypothesis H0 : β1 = 0?**"
   ]
  },
  {
   "cell_type": "code",
   "execution_count": 243,
   "id": "de38868d",
   "metadata": {},
   "outputs": [
    {
     "data": {
      "text/html": [
       "<table class=\"simpletable\">\n",
       "<caption>OLS Regression Results</caption>\n",
       "<tr>\n",
       "  <th>Dep. Variable:</th>            <td>y</td>        <th>  R-squared:         </th> <td>   0.291</td>\n",
       "</tr>\n",
       "<tr>\n",
       "  <th>Model:</th>                   <td>OLS</td>       <th>  Adj. R-squared:    </th> <td>   0.276</td>\n",
       "</tr>\n",
       "<tr>\n",
       "  <th>Method:</th>             <td>Least Squares</td>  <th>  F-statistic:       </th> <td>   19.89</td>\n",
       "</tr>\n",
       "<tr>\n",
       "  <th>Date:</th>             <td>Tue, 16 Jan 2024</td> <th>  Prob (F-statistic):</th> <td>5.76e-08</td>\n",
       "</tr>\n",
       "<tr>\n",
       "  <th>Time:</th>                 <td>22:15:54</td>     <th>  Log-Likelihood:    </th> <td> -130.62</td>\n",
       "</tr>\n",
       "<tr>\n",
       "  <th>No. Observations:</th>      <td>   100</td>      <th>  AIC:               </th> <td>   267.2</td>\n",
       "</tr>\n",
       "<tr>\n",
       "  <th>Df Residuals:</th>          <td>    97</td>      <th>  BIC:               </th> <td>   275.1</td>\n",
       "</tr>\n",
       "<tr>\n",
       "  <th>Df Model:</th>              <td>     2</td>      <th>                     </th>     <td> </td>   \n",
       "</tr>\n",
       "<tr>\n",
       "  <th>Covariance Type:</th>      <td>nonrobust</td>    <th>                     </th>     <td> </td>   \n",
       "</tr>\n",
       "</table>\n",
       "<table class=\"simpletable\">\n",
       "<tr>\n",
       "      <td></td>         <th>coef</th>     <th>std err</th>      <th>t</th>      <th>P>|t|</th>  <th>[0.025</th>    <th>0.975]</th>  \n",
       "</tr>\n",
       "<tr>\n",
       "  <th>intercept</th> <td>    1.9579</td> <td>    0.190</td> <td>   10.319</td> <td> 0.000</td> <td>    1.581</td> <td>    2.334</td>\n",
       "</tr>\n",
       "<tr>\n",
       "  <th>x1</th>        <td>    1.6154</td> <td>    0.527</td> <td>    3.065</td> <td> 0.003</td> <td>    0.569</td> <td>    2.661</td>\n",
       "</tr>\n",
       "<tr>\n",
       "  <th>x2</th>        <td>    0.9428</td> <td>    0.831</td> <td>    1.134</td> <td> 0.259</td> <td>   -0.707</td> <td>    2.592</td>\n",
       "</tr>\n",
       "</table>\n",
       "<table class=\"simpletable\">\n",
       "<tr>\n",
       "  <th>Omnibus:</th>       <td> 0.051</td> <th>  Durbin-Watson:     </th> <td>   1.964</td>\n",
       "</tr>\n",
       "<tr>\n",
       "  <th>Prob(Omnibus):</th> <td> 0.975</td> <th>  Jarque-Bera (JB):  </th> <td>   0.041</td>\n",
       "</tr>\n",
       "<tr>\n",
       "  <th>Skew:</th>          <td>-0.036</td> <th>  Prob(JB):          </th> <td>   0.979</td>\n",
       "</tr>\n",
       "<tr>\n",
       "  <th>Kurtosis:</th>      <td> 2.931</td> <th>  Cond. No.          </th> <td>    11.9</td>\n",
       "</tr>\n",
       "</table><br/><br/>Notes:<br/>[1] Standard Errors assume that the covariance matrix of the errors is correctly specified."
      ],
      "text/plain": [
       "<class 'statsmodels.iolib.summary.Summary'>\n",
       "\"\"\"\n",
       "                            OLS Regression Results                            \n",
       "==============================================================================\n",
       "Dep. Variable:                      y   R-squared:                       0.291\n",
       "Model:                            OLS   Adj. R-squared:                  0.276\n",
       "Method:                 Least Squares   F-statistic:                     19.89\n",
       "Date:                Tue, 16 Jan 2024   Prob (F-statistic):           5.76e-08\n",
       "Time:                        22:15:54   Log-Likelihood:                -130.62\n",
       "No. Observations:                 100   AIC:                             267.2\n",
       "Df Residuals:                      97   BIC:                             275.1\n",
       "Df Model:                           2                                         \n",
       "Covariance Type:            nonrobust                                         \n",
       "==============================================================================\n",
       "                 coef    std err          t      P>|t|      [0.025      0.975]\n",
       "------------------------------------------------------------------------------\n",
       "intercept      1.9579      0.190     10.319      0.000       1.581       2.334\n",
       "x1             1.6154      0.527      3.065      0.003       0.569       2.661\n",
       "x2             0.9428      0.831      1.134      0.259      -0.707       2.592\n",
       "==============================================================================\n",
       "Omnibus:                        0.051   Durbin-Watson:                   1.964\n",
       "Prob(Omnibus):                  0.975   Jarque-Bera (JB):                0.041\n",
       "Skew:                          -0.036   Prob(JB):                        0.979\n",
       "Kurtosis:                       2.931   Cond. No.                         11.9\n",
       "==============================================================================\n",
       "\n",
       "Notes:\n",
       "[1] Standard Errors assume that the covariance matrix of the errors is correctly specified.\n",
       "\"\"\""
      ]
     },
     "execution_count": 243,
     "metadata": {},
     "output_type": "execute_result"
    }
   ],
   "source": [
    "results.summary()"
   ]
  },
  {
   "cell_type": "markdown",
   "id": "831e4582",
   "metadata": {},
   "source": [
    "Yes, I can reject the null hypothesis because, t value for x1 is 3.065, which is greater than 0 proving that x1 have significant statistical relationship with y and the p value is proving that the relationship is not by chance there is relationship. "
   ]
  },
  {
   "cell_type": "markdown",
   "id": "fe4790e7",
   "metadata": {},
   "source": [
    "**How about the null hypothesis H0 : β2 = 0?**"
   ]
  },
  {
   "cell_type": "markdown",
   "id": "5e67ed78",
   "metadata": {},
   "source": [
    "I cannot reject the null hypothesis because, t value for x2 is 1.134, which is greater than 0 proving that x2 have some statistical relationship with y but looking at the p value against t, which is providing that the relationship is by chance, X2 does not have a significant statistical impact on y."
   ]
  },
  {
   "cell_type": "markdown",
   "id": "6b04a5ce",
   "metadata": {},
   "source": [
    "## (d) Now fit a least squares regression to predict y using only x1. \n",
    "\n",
    "Comment on your results. Can you reject the null hypothesis H0 :β1 =0?"
   ]
  },
  {
   "cell_type": "code",
   "execution_count": 244,
   "id": "db0cb817",
   "metadata": {},
   "outputs": [],
   "source": [
    "# assign first two columns to X, and last to y\n",
    "X = df[['intercept', 'x1']]\n",
    "y = df['y']"
   ]
  },
  {
   "cell_type": "code",
   "execution_count": 245,
   "id": "7fc9a38b",
   "metadata": {},
   "outputs": [
    {
     "data": {
      "text/html": [
       "<table class=\"simpletable\">\n",
       "<caption>OLS Regression Results</caption>\n",
       "<tr>\n",
       "  <th>Dep. Variable:</th>            <td>y</td>        <th>  R-squared:         </th> <td>   0.281</td>\n",
       "</tr>\n",
       "<tr>\n",
       "  <th>Model:</th>                   <td>OLS</td>       <th>  Adj. R-squared:    </th> <td>   0.274</td>\n",
       "</tr>\n",
       "<tr>\n",
       "  <th>Method:</th>             <td>Least Squares</td>  <th>  F-statistic:       </th> <td>   38.39</td>\n",
       "</tr>\n",
       "<tr>\n",
       "  <th>Date:</th>             <td>Tue, 16 Jan 2024</td> <th>  Prob (F-statistic):</th> <td>1.37e-08</td>\n",
       "</tr>\n",
       "<tr>\n",
       "  <th>Time:</th>                 <td>22:15:56</td>     <th>  Log-Likelihood:    </th> <td> -131.28</td>\n",
       "</tr>\n",
       "<tr>\n",
       "  <th>No. Observations:</th>      <td>   100</td>      <th>  AIC:               </th> <td>   266.6</td>\n",
       "</tr>\n",
       "<tr>\n",
       "  <th>Df Residuals:</th>          <td>    98</td>      <th>  BIC:               </th> <td>   271.8</td>\n",
       "</tr>\n",
       "<tr>\n",
       "  <th>Df Model:</th>              <td>     1</td>      <th>                     </th>     <td> </td>   \n",
       "</tr>\n",
       "<tr>\n",
       "  <th>Covariance Type:</th>      <td>nonrobust</td>    <th>                     </th>     <td> </td>   \n",
       "</tr>\n",
       "</table>\n",
       "<table class=\"simpletable\">\n",
       "<tr>\n",
       "      <td></td>         <th>coef</th>     <th>std err</th>      <th>t</th>      <th>P>|t|</th>  <th>[0.025</th>    <th>0.975]</th>  \n",
       "</tr>\n",
       "<tr>\n",
       "  <th>intercept</th> <td>    1.9371</td> <td>    0.189</td> <td>   10.242</td> <td> 0.000</td> <td>    1.562</td> <td>    2.312</td>\n",
       "</tr>\n",
       "<tr>\n",
       "  <th>x1</th>        <td>    2.0771</td> <td>    0.335</td> <td>    6.196</td> <td> 0.000</td> <td>    1.412</td> <td>    2.742</td>\n",
       "</tr>\n",
       "</table>\n",
       "<table class=\"simpletable\">\n",
       "<tr>\n",
       "  <th>Omnibus:</th>       <td> 0.204</td> <th>  Durbin-Watson:     </th> <td>   1.931</td>\n",
       "</tr>\n",
       "<tr>\n",
       "  <th>Prob(Omnibus):</th> <td> 0.903</td> <th>  Jarque-Bera (JB):  </th> <td>   0.042</td>\n",
       "</tr>\n",
       "<tr>\n",
       "  <th>Skew:</th>          <td>-0.046</td> <th>  Prob(JB):          </th> <td>   0.979</td>\n",
       "</tr>\n",
       "<tr>\n",
       "  <th>Kurtosis:</th>      <td> 3.038</td> <th>  Cond. No.          </th> <td>    4.65</td>\n",
       "</tr>\n",
       "</table><br/><br/>Notes:<br/>[1] Standard Errors assume that the covariance matrix of the errors is correctly specified."
      ],
      "text/plain": [
       "<class 'statsmodels.iolib.summary.Summary'>\n",
       "\"\"\"\n",
       "                            OLS Regression Results                            \n",
       "==============================================================================\n",
       "Dep. Variable:                      y   R-squared:                       0.281\n",
       "Model:                            OLS   Adj. R-squared:                  0.274\n",
       "Method:                 Least Squares   F-statistic:                     38.39\n",
       "Date:                Tue, 16 Jan 2024   Prob (F-statistic):           1.37e-08\n",
       "Time:                        22:15:56   Log-Likelihood:                -131.28\n",
       "No. Observations:                 100   AIC:                             266.6\n",
       "Df Residuals:                      98   BIC:                             271.8\n",
       "Df Model:                           1                                         \n",
       "Covariance Type:            nonrobust                                         \n",
       "==============================================================================\n",
       "                 coef    std err          t      P>|t|      [0.025      0.975]\n",
       "------------------------------------------------------------------------------\n",
       "intercept      1.9371      0.189     10.242      0.000       1.562       2.312\n",
       "x1             2.0771      0.335      6.196      0.000       1.412       2.742\n",
       "==============================================================================\n",
       "Omnibus:                        0.204   Durbin-Watson:                   1.931\n",
       "Prob(Omnibus):                  0.903   Jarque-Bera (JB):                0.042\n",
       "Skew:                          -0.046   Prob(JB):                        0.979\n",
       "Kurtosis:                       3.038   Cond. No.                         4.65\n",
       "==============================================================================\n",
       "\n",
       "Notes:\n",
       "[1] Standard Errors assume that the covariance matrix of the errors is correctly specified.\n",
       "\"\"\""
      ]
     },
     "execution_count": 245,
     "metadata": {},
     "output_type": "execute_result"
    }
   ],
   "source": [
    "model = sm.OLS(y, X)\n",
    "\n",
    "# fit the model\n",
    "results = model.fit()\n",
    "\n",
    "results.summary()"
   ]
  },
  {
   "cell_type": "markdown",
   "id": "5687e62d",
   "metadata": {},
   "source": [
    "Yes, I can reject the null hypothesis because, t value for x1 is 6.196, which is greater than 0 proving that x1 have significant statistical relationship with y and the p value is proving that the relationship is not by chance there is relationship."
   ]
  },
  {
   "cell_type": "markdown",
   "id": "62259e07",
   "metadata": {},
   "source": [
    "## (e) Now fit a least squares regression to predict y using only x2. \n",
    "\n",
    "Comment on your results. Can you reject the null hypothesis H0 :β1 =0?"
   ]
  },
  {
   "cell_type": "code",
   "execution_count": 246,
   "id": "c0ae28a7",
   "metadata": {},
   "outputs": [],
   "source": [
    "# assign first two columns to X, and last to y\n",
    "X = df[['intercept', 'x2']]\n",
    "y = df['y']"
   ]
  },
  {
   "cell_type": "code",
   "execution_count": 247,
   "id": "92f04642",
   "metadata": {},
   "outputs": [
    {
     "data": {
      "text/html": [
       "<table class=\"simpletable\">\n",
       "<caption>OLS Regression Results</caption>\n",
       "<tr>\n",
       "  <th>Dep. Variable:</th>            <td>y</td>        <th>  R-squared:         </th> <td>   0.222</td>\n",
       "</tr>\n",
       "<tr>\n",
       "  <th>Model:</th>                   <td>OLS</td>       <th>  Adj. R-squared:    </th> <td>   0.214</td>\n",
       "</tr>\n",
       "<tr>\n",
       "  <th>Method:</th>             <td>Least Squares</td>  <th>  F-statistic:       </th> <td>   27.99</td>\n",
       "</tr>\n",
       "<tr>\n",
       "  <th>Date:</th>             <td>Tue, 16 Jan 2024</td> <th>  Prob (F-statistic):</th> <td>7.43e-07</td>\n",
       "</tr>\n",
       "<tr>\n",
       "  <th>Time:</th>                 <td>22:15:57</td>     <th>  Log-Likelihood:    </th> <td> -135.24</td>\n",
       "</tr>\n",
       "<tr>\n",
       "  <th>No. Observations:</th>      <td>   100</td>      <th>  AIC:               </th> <td>   274.5</td>\n",
       "</tr>\n",
       "<tr>\n",
       "  <th>Df Residuals:</th>          <td>    98</td>      <th>  BIC:               </th> <td>   279.7</td>\n",
       "</tr>\n",
       "<tr>\n",
       "  <th>Df Model:</th>              <td>     1</td>      <th>                     </th>     <td> </td>   \n",
       "</tr>\n",
       "<tr>\n",
       "  <th>Covariance Type:</th>      <td>nonrobust</td>    <th>                     </th>     <td> </td>   \n",
       "</tr>\n",
       "</table>\n",
       "<table class=\"simpletable\">\n",
       "<tr>\n",
       "      <td></td>         <th>coef</th>     <th>std err</th>      <th>t</th>      <th>P>|t|</th>  <th>[0.025</th>    <th>0.975]</th>  \n",
       "</tr>\n",
       "<tr>\n",
       "  <th>intercept</th> <td>    2.3239</td> <td>    0.154</td> <td>   15.124</td> <td> 0.000</td> <td>    2.019</td> <td>    2.629</td>\n",
       "</tr>\n",
       "<tr>\n",
       "  <th>x2</th>        <td>    2.9103</td> <td>    0.550</td> <td>    5.291</td> <td> 0.000</td> <td>    1.819</td> <td>    4.002</td>\n",
       "</tr>\n",
       "</table>\n",
       "<table class=\"simpletable\">\n",
       "<tr>\n",
       "  <th>Omnibus:</th>       <td> 0.191</td> <th>  Durbin-Watson:     </th> <td>   1.943</td>\n",
       "</tr>\n",
       "<tr>\n",
       "  <th>Prob(Omnibus):</th> <td> 0.909</td> <th>  Jarque-Bera (JB):  </th> <td>   0.373</td>\n",
       "</tr>\n",
       "<tr>\n",
       "  <th>Skew:</th>          <td>-0.034</td> <th>  Prob(JB):          </th> <td>   0.830</td>\n",
       "</tr>\n",
       "<tr>\n",
       "  <th>Kurtosis:</th>      <td> 2.709</td> <th>  Cond. No.          </th> <td>    6.11</td>\n",
       "</tr>\n",
       "</table><br/><br/>Notes:<br/>[1] Standard Errors assume that the covariance matrix of the errors is correctly specified."
      ],
      "text/plain": [
       "<class 'statsmodels.iolib.summary.Summary'>\n",
       "\"\"\"\n",
       "                            OLS Regression Results                            \n",
       "==============================================================================\n",
       "Dep. Variable:                      y   R-squared:                       0.222\n",
       "Model:                            OLS   Adj. R-squared:                  0.214\n",
       "Method:                 Least Squares   F-statistic:                     27.99\n",
       "Date:                Tue, 16 Jan 2024   Prob (F-statistic):           7.43e-07\n",
       "Time:                        22:15:57   Log-Likelihood:                -135.24\n",
       "No. Observations:                 100   AIC:                             274.5\n",
       "Df Residuals:                      98   BIC:                             279.7\n",
       "Df Model:                           1                                         \n",
       "Covariance Type:            nonrobust                                         \n",
       "==============================================================================\n",
       "                 coef    std err          t      P>|t|      [0.025      0.975]\n",
       "------------------------------------------------------------------------------\n",
       "intercept      2.3239      0.154     15.124      0.000       2.019       2.629\n",
       "x2             2.9103      0.550      5.291      0.000       1.819       4.002\n",
       "==============================================================================\n",
       "Omnibus:                        0.191   Durbin-Watson:                   1.943\n",
       "Prob(Omnibus):                  0.909   Jarque-Bera (JB):                0.373\n",
       "Skew:                          -0.034   Prob(JB):                        0.830\n",
       "Kurtosis:                       2.709   Cond. No.                         6.11\n",
       "==============================================================================\n",
       "\n",
       "Notes:\n",
       "[1] Standard Errors assume that the covariance matrix of the errors is correctly specified.\n",
       "\"\"\""
      ]
     },
     "execution_count": 247,
     "metadata": {},
     "output_type": "execute_result"
    }
   ],
   "source": [
    "model = sm.OLS(y, X)\n",
    "\n",
    "# fit the model\n",
    "results = model.fit()\n",
    "\n",
    "results.summary()"
   ]
  },
  {
   "cell_type": "markdown",
   "id": "af3eaac3",
   "metadata": {},
   "source": [
    "Yes, I can reject the null hypothesis because, t value for x2 is 5.291, which is greater than 0 proving that x2 have significant statistical relationship with y and the p value is proving that the relationship is not by chance there is relationship."
   ]
  },
  {
   "cell_type": "markdown",
   "id": "0079bc17",
   "metadata": {},
   "source": [
    "## (f) Do the results obtained in (c)–(e) contradict each other? Explain your answer."
   ]
  },
  {
   "cell_type": "code",
   "execution_count": null,
   "id": "b512810c",
   "metadata": {},
   "outputs": [],
   "source": []
  },
  {
   "cell_type": "code",
   "execution_count": null,
   "id": "9889ef0b",
   "metadata": {},
   "outputs": [],
   "source": []
  },
  {
   "cell_type": "markdown",
   "id": "7165ea18",
   "metadata": {},
   "source": [
    "## (g) Suppose we obtain one additional observation, which was unfortunately mismeasured. \n",
    "\n",
    "We use the function np.concatenate() to add this additional observation to each of x1, x2 and y.\n",
    "\n",
    "x1 = np.concatenate([x1, [0.1]]) \n",
    "\n",
    "x2 = np.concatenate([x2, [0.8]]) \n",
    "\n",
    "y = np.concatenate([y, [6]])\n",
    "\n",
    "Re-fit the linear models from (c) to (e) using this new data. What effect does this new observation have on the each of the models? \n",
    "\n",
    "In each model, is this observation an outlier? \n",
    "\n",
    "A high-leverage point? Both? Explain your answers."
   ]
  },
  {
   "cell_type": "code",
   "execution_count": null,
   "id": "48598bcc",
   "metadata": {},
   "outputs": [],
   "source": []
  },
  {
   "cell_type": "code",
   "execution_count": null,
   "id": "bf972b9f",
   "metadata": {},
   "outputs": [],
   "source": []
  },
  {
   "cell_type": "code",
   "execution_count": null,
   "id": "b71e17c3",
   "metadata": {},
   "outputs": [],
   "source": []
  },
  {
   "cell_type": "code",
   "execution_count": null,
   "id": "31e6d256",
   "metadata": {},
   "outputs": [],
   "source": []
  },
  {
   "cell_type": "code",
   "execution_count": null,
   "id": "a5135d67",
   "metadata": {},
   "outputs": [],
   "source": []
  },
  {
   "cell_type": "code",
   "execution_count": 122,
   "id": "ecf8754e",
   "metadata": {},
   "outputs": [],
   "source": []
  },
  {
   "cell_type": "code",
   "execution_count": null,
   "id": "42baeb67",
   "metadata": {},
   "outputs": [],
   "source": []
  },
  {
   "cell_type": "code",
   "execution_count": null,
   "id": "63a4a8d5",
   "metadata": {},
   "outputs": [],
   "source": []
  }
 ],
 "metadata": {
  "kernelspec": {
   "display_name": "Python 3 (ipykernel)",
   "language": "python",
   "name": "python3"
  },
  "language_info": {
   "codemirror_mode": {
    "name": "ipython",
    "version": 3
   },
   "file_extension": ".py",
   "mimetype": "text/x-python",
   "name": "python",
   "nbconvert_exporter": "python",
   "pygments_lexer": "ipython3",
   "version": "3.10.9"
  }
 },
 "nbformat": 4,
 "nbformat_minor": 5
}
