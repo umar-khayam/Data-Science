{
 "cells": [
  {
   "cell_type": "markdown",
   "id": "3c502386",
   "metadata": {},
   "source": [
    "# 8. This question involves the use of simple linear regression on the Auto data set"
   ]
  },
  {
   "cell_type": "code",
   "execution_count": 1,
   "id": "cff1c176",
   "metadata": {},
   "outputs": [],
   "source": [
    "import pandas as pd\n",
    "import statsmodels.api as sm\n",
    "from ISLP.models import summarize\n",
    "import numpy as np\n",
    "import matplotlib.pyplot as plt"
   ]
  },
  {
   "cell_type": "code",
   "execution_count": 23,
   "id": "7291a948",
   "metadata": {},
   "outputs": [
    {
     "data": {
      "text/html": [
       "<div>\n",
       "<style scoped>\n",
       "    .dataframe tbody tr th:only-of-type {\n",
       "        vertical-align: middle;\n",
       "    }\n",
       "\n",
       "    .dataframe tbody tr th {\n",
       "        vertical-align: top;\n",
       "    }\n",
       "\n",
       "    .dataframe thead th {\n",
       "        text-align: right;\n",
       "    }\n",
       "</style>\n",
       "<table border=\"1\" class=\"dataframe\">\n",
       "  <thead>\n",
       "    <tr style=\"text-align: right;\">\n",
       "      <th></th>\n",
       "      <th>mpg</th>\n",
       "      <th>cylinders</th>\n",
       "      <th>displacement</th>\n",
       "      <th>horsepower</th>\n",
       "      <th>weight</th>\n",
       "      <th>acceleration</th>\n",
       "      <th>year</th>\n",
       "      <th>origin</th>\n",
       "      <th>name</th>\n",
       "    </tr>\n",
       "  </thead>\n",
       "  <tbody>\n",
       "    <tr>\n",
       "      <th>0</th>\n",
       "      <td>18.0</td>\n",
       "      <td>8</td>\n",
       "      <td>307.0</td>\n",
       "      <td>130</td>\n",
       "      <td>3504</td>\n",
       "      <td>12.0</td>\n",
       "      <td>70</td>\n",
       "      <td>1</td>\n",
       "      <td>chevrolet chevelle malibu</td>\n",
       "    </tr>\n",
       "    <tr>\n",
       "      <th>1</th>\n",
       "      <td>15.0</td>\n",
       "      <td>8</td>\n",
       "      <td>350.0</td>\n",
       "      <td>165</td>\n",
       "      <td>3693</td>\n",
       "      <td>11.5</td>\n",
       "      <td>70</td>\n",
       "      <td>1</td>\n",
       "      <td>buick skylark 320</td>\n",
       "    </tr>\n",
       "    <tr>\n",
       "      <th>2</th>\n",
       "      <td>18.0</td>\n",
       "      <td>8</td>\n",
       "      <td>318.0</td>\n",
       "      <td>150</td>\n",
       "      <td>3436</td>\n",
       "      <td>11.0</td>\n",
       "      <td>70</td>\n",
       "      <td>1</td>\n",
       "      <td>plymouth satellite</td>\n",
       "    </tr>\n",
       "    <tr>\n",
       "      <th>3</th>\n",
       "      <td>16.0</td>\n",
       "      <td>8</td>\n",
       "      <td>304.0</td>\n",
       "      <td>150</td>\n",
       "      <td>3433</td>\n",
       "      <td>12.0</td>\n",
       "      <td>70</td>\n",
       "      <td>1</td>\n",
       "      <td>amc rebel sst</td>\n",
       "    </tr>\n",
       "    <tr>\n",
       "      <th>4</th>\n",
       "      <td>17.0</td>\n",
       "      <td>8</td>\n",
       "      <td>302.0</td>\n",
       "      <td>140</td>\n",
       "      <td>3449</td>\n",
       "      <td>10.5</td>\n",
       "      <td>70</td>\n",
       "      <td>1</td>\n",
       "      <td>ford torino</td>\n",
       "    </tr>\n",
       "  </tbody>\n",
       "</table>\n",
       "</div>"
      ],
      "text/plain": [
       "    mpg  cylinders  displacement horsepower  weight  acceleration  year  \\\n",
       "0  18.0          8         307.0        130    3504          12.0    70   \n",
       "1  15.0          8         350.0        165    3693          11.5    70   \n",
       "2  18.0          8         318.0        150    3436          11.0    70   \n",
       "3  16.0          8         304.0        150    3433          12.0    70   \n",
       "4  17.0          8         302.0        140    3449          10.5    70   \n",
       "\n",
       "   origin                       name  \n",
       "0       1  chevrolet chevelle malibu  \n",
       "1       1          buick skylark 320  \n",
       "2       1         plymouth satellite  \n",
       "3       1              amc rebel sst  \n",
       "4       1                ford torino  "
      ]
     },
     "execution_count": 23,
     "metadata": {},
     "output_type": "execute_result"
    }
   ],
   "source": [
    "auto = pd.read_csv('Auto.csv')\n",
    "auto.head()"
   ]
  },
  {
   "cell_type": "code",
   "execution_count": 24,
   "id": "a92295fd",
   "metadata": {},
   "outputs": [
    {
     "data": {
      "text/html": [
       "<div>\n",
       "<style scoped>\n",
       "    .dataframe tbody tr th:only-of-type {\n",
       "        vertical-align: middle;\n",
       "    }\n",
       "\n",
       "    .dataframe tbody tr th {\n",
       "        vertical-align: top;\n",
       "    }\n",
       "\n",
       "    .dataframe thead th {\n",
       "        text-align: right;\n",
       "    }\n",
       "</style>\n",
       "<table border=\"1\" class=\"dataframe\">\n",
       "  <thead>\n",
       "    <tr style=\"text-align: right;\">\n",
       "      <th></th>\n",
       "      <th>horsepower</th>\n",
       "      <th>mpg</th>\n",
       "    </tr>\n",
       "  </thead>\n",
       "  <tbody>\n",
       "    <tr>\n",
       "      <th>0</th>\n",
       "      <td>130</td>\n",
       "      <td>18.0</td>\n",
       "    </tr>\n",
       "    <tr>\n",
       "      <th>1</th>\n",
       "      <td>165</td>\n",
       "      <td>15.0</td>\n",
       "    </tr>\n",
       "    <tr>\n",
       "      <th>2</th>\n",
       "      <td>150</td>\n",
       "      <td>18.0</td>\n",
       "    </tr>\n",
       "    <tr>\n",
       "      <th>3</th>\n",
       "      <td>150</td>\n",
       "      <td>16.0</td>\n",
       "    </tr>\n",
       "    <tr>\n",
       "      <th>4</th>\n",
       "      <td>140</td>\n",
       "      <td>17.0</td>\n",
       "    </tr>\n",
       "  </tbody>\n",
       "</table>\n",
       "</div>"
      ],
      "text/plain": [
       "  horsepower   mpg\n",
       "0        130  18.0\n",
       "1        165  15.0\n",
       "2        150  18.0\n",
       "3        150  16.0\n",
       "4        140  17.0"
      ]
     },
     "execution_count": 24,
     "metadata": {},
     "output_type": "execute_result"
    }
   ],
   "source": [
    "auto = auto[['horsepower', 'mpg']]\n",
    "auto.head()"
   ]
  },
  {
   "cell_type": "code",
   "execution_count": 25,
   "id": "fd596cb0",
   "metadata": {},
   "outputs": [
    {
     "data": {
      "text/plain": [
       "(397, 2)"
      ]
     },
     "execution_count": 25,
     "metadata": {},
     "output_type": "execute_result"
    }
   ],
   "source": [
    "# display the rows and columns values of the dataset\n",
    "auto.shape"
   ]
  },
  {
   "cell_type": "code",
   "execution_count": 26,
   "id": "fae6b51c",
   "metadata": {},
   "outputs": [
    {
     "name": "stdout",
     "output_type": "stream",
     "text": [
      "<class 'pandas.core.frame.DataFrame'>\n",
      "RangeIndex: 397 entries, 0 to 396\n",
      "Data columns (total 2 columns):\n",
      " #   Column      Non-Null Count  Dtype  \n",
      "---  ------      --------------  -----  \n",
      " 0   horsepower  397 non-null    object \n",
      " 1   mpg         397 non-null    float64\n",
      "dtypes: float64(1), object(1)\n",
      "memory usage: 6.3+ KB\n"
     ]
    }
   ],
   "source": [
    "# display how many non values of the dataset and what is the type of each column\n",
    "auto.info()"
   ]
  },
  {
   "cell_type": "code",
   "execution_count": 27,
   "id": "60fed38f",
   "metadata": {},
   "outputs": [
    {
     "data": {
      "text/plain": [
       "horsepower     94\n",
       "mpg           129\n",
       "dtype: int64"
      ]
     },
     "execution_count": 27,
     "metadata": {},
     "output_type": "execute_result"
    }
   ],
   "source": [
    "# count number of unique values for each columns\n",
    "auto.nunique()"
   ]
  },
  {
   "cell_type": "code",
   "execution_count": 28,
   "id": "5c66b685",
   "metadata": {},
   "outputs": [],
   "source": [
    "# convert 'horsepower' to numeric, if errors in some rows than to NaN for that row's value\n",
    "# error = 'coerce', any value that cannot be converted to a number (such as a string or a character like '?')\n",
    "auto['horsepower'] = pd.to_numeric(auto['horsepower'], errors='coerce')"
   ]
  },
  {
   "cell_type": "code",
   "execution_count": 29,
   "id": "6a4617fa",
   "metadata": {},
   "outputs": [],
   "source": [
    "# drop the rows where nan values\n",
    "auto.dropna(inplace=True)"
   ]
  },
  {
   "cell_type": "code",
   "execution_count": 30,
   "id": "17ce43e4",
   "metadata": {},
   "outputs": [
    {
     "data": {
      "text/plain": [
       "(392, 2)"
      ]
     },
     "execution_count": 30,
     "metadata": {},
     "output_type": "execute_result"
    }
   ],
   "source": [
    "auto.shape"
   ]
  },
  {
   "cell_type": "code",
   "execution_count": 31,
   "id": "34e75978",
   "metadata": {},
   "outputs": [
    {
     "data": {
      "text/html": [
       "<div>\n",
       "<style scoped>\n",
       "    .dataframe tbody tr th:only-of-type {\n",
       "        vertical-align: middle;\n",
       "    }\n",
       "\n",
       "    .dataframe tbody tr th {\n",
       "        vertical-align: top;\n",
       "    }\n",
       "\n",
       "    .dataframe thead th {\n",
       "        text-align: right;\n",
       "    }\n",
       "</style>\n",
       "<table border=\"1\" class=\"dataframe\">\n",
       "  <thead>\n",
       "    <tr style=\"text-align: right;\">\n",
       "      <th></th>\n",
       "      <th>horsepower</th>\n",
       "      <th>mpg</th>\n",
       "    </tr>\n",
       "  </thead>\n",
       "  <tbody>\n",
       "    <tr>\n",
       "      <th>count</th>\n",
       "      <td>392.000000</td>\n",
       "      <td>392.000000</td>\n",
       "    </tr>\n",
       "    <tr>\n",
       "      <th>mean</th>\n",
       "      <td>104.469388</td>\n",
       "      <td>23.445918</td>\n",
       "    </tr>\n",
       "    <tr>\n",
       "      <th>std</th>\n",
       "      <td>38.491160</td>\n",
       "      <td>7.805007</td>\n",
       "    </tr>\n",
       "    <tr>\n",
       "      <th>min</th>\n",
       "      <td>46.000000</td>\n",
       "      <td>9.000000</td>\n",
       "    </tr>\n",
       "    <tr>\n",
       "      <th>25%</th>\n",
       "      <td>75.000000</td>\n",
       "      <td>17.000000</td>\n",
       "    </tr>\n",
       "    <tr>\n",
       "      <th>50%</th>\n",
       "      <td>93.500000</td>\n",
       "      <td>22.750000</td>\n",
       "    </tr>\n",
       "    <tr>\n",
       "      <th>75%</th>\n",
       "      <td>126.000000</td>\n",
       "      <td>29.000000</td>\n",
       "    </tr>\n",
       "    <tr>\n",
       "      <th>max</th>\n",
       "      <td>230.000000</td>\n",
       "      <td>46.600000</td>\n",
       "    </tr>\n",
       "  </tbody>\n",
       "</table>\n",
       "</div>"
      ],
      "text/plain": [
       "       horsepower         mpg\n",
       "count  392.000000  392.000000\n",
       "mean   104.469388   23.445918\n",
       "std     38.491160    7.805007\n",
       "min     46.000000    9.000000\n",
       "25%     75.000000   17.000000\n",
       "50%     93.500000   22.750000\n",
       "75%    126.000000   29.000000\n",
       "max    230.000000   46.600000"
      ]
     },
     "execution_count": 31,
     "metadata": {},
     "output_type": "execute_result"
    }
   ],
   "source": [
    "auto.describe()"
   ]
  },
  {
   "cell_type": "markdown",
   "id": "76cc0092",
   "metadata": {},
   "source": [
    "## (a) Use the sm.OLS() function to perform a simple linear regression with mpg as the response and horsepower as the predictor. Use the summarize() function to print the results. Comment on the output. For example:\n",
    "\n",
    "1. Is there a relationship between the predictor and the response?\n",
    "2. How strong is the relationship between the predictor and the response?\n",
    "3. Is the relationship between the predictor and the response positive or negative?\n",
    "4. What is the predicted mpg associated with a horsepower of 98? What are the associated 95 % confidence and prediction intervals?"
   ]
  },
  {
   "cell_type": "code",
   "execution_count": 32,
   "id": "4ab69443",
   "metadata": {},
   "outputs": [],
   "source": [
    "# the intercept represents the value for the response variable, when predictor variable is zero\n",
    "# so for this, I will make intercept column initialize 1 for all rows\n",
    "auto['intercept'] = 1"
   ]
  },
  {
   "cell_type": "code",
   "execution_count": 33,
   "id": "35272ba5",
   "metadata": {},
   "outputs": [
    {
     "data": {
      "text/html": [
       "<div>\n",
       "<style scoped>\n",
       "    .dataframe tbody tr th:only-of-type {\n",
       "        vertical-align: middle;\n",
       "    }\n",
       "\n",
       "    .dataframe tbody tr th {\n",
       "        vertical-align: top;\n",
       "    }\n",
       "\n",
       "    .dataframe thead th {\n",
       "        text-align: right;\n",
       "    }\n",
       "</style>\n",
       "<table border=\"1\" class=\"dataframe\">\n",
       "  <thead>\n",
       "    <tr style=\"text-align: right;\">\n",
       "      <th></th>\n",
       "      <th>horsepower</th>\n",
       "      <th>mpg</th>\n",
       "      <th>intercept</th>\n",
       "    </tr>\n",
       "  </thead>\n",
       "  <tbody>\n",
       "    <tr>\n",
       "      <th>0</th>\n",
       "      <td>130.0</td>\n",
       "      <td>18.0</td>\n",
       "      <td>1</td>\n",
       "    </tr>\n",
       "    <tr>\n",
       "      <th>1</th>\n",
       "      <td>165.0</td>\n",
       "      <td>15.0</td>\n",
       "      <td>1</td>\n",
       "    </tr>\n",
       "    <tr>\n",
       "      <th>2</th>\n",
       "      <td>150.0</td>\n",
       "      <td>18.0</td>\n",
       "      <td>1</td>\n",
       "    </tr>\n",
       "    <tr>\n",
       "      <th>3</th>\n",
       "      <td>150.0</td>\n",
       "      <td>16.0</td>\n",
       "      <td>1</td>\n",
       "    </tr>\n",
       "    <tr>\n",
       "      <th>4</th>\n",
       "      <td>140.0</td>\n",
       "      <td>17.0</td>\n",
       "      <td>1</td>\n",
       "    </tr>\n",
       "  </tbody>\n",
       "</table>\n",
       "</div>"
      ],
      "text/plain": [
       "   horsepower   mpg  intercept\n",
       "0       130.0  18.0          1\n",
       "1       165.0  15.0          1\n",
       "2       150.0  18.0          1\n",
       "3       150.0  16.0          1\n",
       "4       140.0  17.0          1"
      ]
     },
     "execution_count": 33,
     "metadata": {},
     "output_type": "execute_result"
    }
   ],
   "source": [
    "auto.head()"
   ]
  },
  {
   "cell_type": "code",
   "execution_count": 34,
   "id": "4c817ee6",
   "metadata": {},
   "outputs": [],
   "source": [
    "X = auto[['intercept','horsepower']]\n",
    "y = auto['mpg']"
   ]
  },
  {
   "cell_type": "code",
   "execution_count": 35,
   "id": "c8930190",
   "metadata": {},
   "outputs": [],
   "source": [
    "model = sm.OLS(y, X)\n",
    "results = model.fit()"
   ]
  },
  {
   "cell_type": "code",
   "execution_count": 36,
   "id": "12c7c403",
   "metadata": {},
   "outputs": [
    {
     "data": {
      "text/html": [
       "<div>\n",
       "<style scoped>\n",
       "    .dataframe tbody tr th:only-of-type {\n",
       "        vertical-align: middle;\n",
       "    }\n",
       "\n",
       "    .dataframe tbody tr th {\n",
       "        vertical-align: top;\n",
       "    }\n",
       "\n",
       "    .dataframe thead th {\n",
       "        text-align: right;\n",
       "    }\n",
       "</style>\n",
       "<table border=\"1\" class=\"dataframe\">\n",
       "  <thead>\n",
       "    <tr style=\"text-align: right;\">\n",
       "      <th></th>\n",
       "      <th>coef</th>\n",
       "      <th>std err</th>\n",
       "      <th>t</th>\n",
       "      <th>P&gt;|t|</th>\n",
       "    </tr>\n",
       "  </thead>\n",
       "  <tbody>\n",
       "    <tr>\n",
       "      <th>intercept</th>\n",
       "      <td>39.9359</td>\n",
       "      <td>0.717</td>\n",
       "      <td>55.660</td>\n",
       "      <td>0.0</td>\n",
       "    </tr>\n",
       "    <tr>\n",
       "      <th>horsepower</th>\n",
       "      <td>-0.1578</td>\n",
       "      <td>0.006</td>\n",
       "      <td>-24.489</td>\n",
       "      <td>0.0</td>\n",
       "    </tr>\n",
       "  </tbody>\n",
       "</table>\n",
       "</div>"
      ],
      "text/plain": [
       "               coef  std err       t  P>|t|\n",
       "intercept   39.9359    0.717  55.660    0.0\n",
       "horsepower  -0.1578    0.006 -24.489    0.0"
      ]
     },
     "execution_count": 36,
     "metadata": {},
     "output_type": "execute_result"
    }
   ],
   "source": [
    "summarize(results)"
   ]
  },
  {
   "cell_type": "markdown",
   "id": "956fa446",
   "metadata": {},
   "source": [
    "### 1. Is there a relationship between the predictor and the response?"
   ]
  },
  {
   "cell_type": "markdown",
   "id": "3580e842",
   "metadata": {},
   "source": [
    "t value for the horsepower is -24.489 is large number in absolute term indicating strong relationship between the horsepower and mpg. And p value = 0.0 is evidence that this relationship significant. "
   ]
  },
  {
   "cell_type": "markdown",
   "id": "6fb6fb19",
   "metadata": {},
   "source": [
    "### 2. How strong is the relationship between the predictor and the response?"
   ]
  },
  {
   "cell_type": "code",
   "execution_count": 37,
   "id": "d5a3b789",
   "metadata": {},
   "outputs": [
    {
     "data": {
      "text/plain": [
       "0.6059482578894348"
      ]
     },
     "execution_count": 37,
     "metadata": {},
     "output_type": "execute_result"
    }
   ],
   "source": [
    "#R square\n",
    "results.rsquared"
   ]
  },
  {
   "cell_type": "code",
   "execution_count": 38,
   "id": "d769749f",
   "metadata": {},
   "outputs": [
    {
     "data": {
      "text/plain": [
       "4.90575691954594"
      ]
     },
     "execution_count": 38,
     "metadata": {},
     "output_type": "execute_result"
    }
   ],
   "source": [
    "#RSE\n",
    "np.sqrt(results.scale)"
   ]
  },
  {
   "cell_type": "markdown",
   "id": "3e3ef96e",
   "metadata": {},
   "source": [
    "R sqaured is 0.6 means, the predictor is explaining 60% of the variance in the response variable. 40% is unexplained. RSE is 4.9, which suggest that the average amount that the y will deviate from true regression line. "
   ]
  },
  {
   "cell_type": "markdown",
   "id": "02e87e0d",
   "metadata": {},
   "source": [
    "### 3. Is the relationship between the predictor and the response positive or negative?"
   ]
  },
  {
   "cell_type": "markdown",
   "id": "c46d46db",
   "metadata": {},
   "source": [
    "There is negative relationship between horsepower and mpg, suggesting when horsepower value increase the response varibale 'mpg' decrease."
   ]
  },
  {
   "cell_type": "markdown",
   "id": "75e8c23f",
   "metadata": {},
   "source": [
    "### 4. What is the predicted mpg associated with a horsepower of 98? What are the associated 95 % confidence and prediction intervals?"
   ]
  },
  {
   "cell_type": "code",
   "execution_count": 58,
   "id": "f5e70c82",
   "metadata": {},
   "outputs": [
    {
     "data": {
      "text/plain": [
       "array([20.99449302])"
      ]
     },
     "execution_count": 58,
     "metadata": {},
     "output_type": "execute_result"
    }
   ],
   "source": [
    "# do the prediction upon intercept = 1 and horsepower = 98\n",
    "new_predictions = results.get_prediction([1,98]);\n",
    "new_predictions.predicted_mean"
   ]
  },
  {
   "cell_type": "code",
   "execution_count": 59,
   "id": "02c8a79d",
   "metadata": {},
   "outputs": [
    {
     "data": {
      "text/plain": [
       "array([[20.4690916 , 21.51989444]])"
      ]
     },
     "execution_count": 59,
     "metadata": {},
     "output_type": "execute_result"
    }
   ],
   "source": [
    "# display the confidence interval \n",
    "new_predictions.conf_int(alpha=0.05)"
   ]
  },
  {
   "cell_type": "code",
   "execution_count": 41,
   "id": "e25a1170",
   "metadata": {},
   "outputs": [
    {
     "data": {
      "text/plain": [
       "array([[14.80939607, 34.12475823]])"
      ]
     },
     "execution_count": 41,
     "metadata": {},
     "output_type": "execute_result"
    }
   ],
   "source": [
    "# display the prediction interval \n",
    "new_predictions.conf_int(obs=True, alpha=0.05)"
   ]
  },
  {
   "cell_type": "markdown",
   "id": "9cffaf6f",
   "metadata": {},
   "source": [
    "Predicted mpg for horsepower of 98 is 24.46707715\n",
    "\n",
    "Confidence Interval are [23.97307896, 24.96107534]\n",
    "\n",
    "Prediction Interval are [14.80939607, 34.12475823]"
   ]
  },
  {
   "cell_type": "markdown",
   "id": "d70357a6",
   "metadata": {},
   "source": [
    "## (b) Plot the response and the predictor in a new set of axes ax. Use the ax.axline() method or the abline() function defined in the lab to display the least squares regression line.\n"
   ]
  },
  {
   "cell_type": "code",
   "execution_count": 47,
   "id": "39ae7cfd",
   "metadata": {},
   "outputs": [],
   "source": [
    "def abline(ax, intercept, slop):\n",
    "    \"Add a line with slope m and intercept b to ax\"\n",
    "    xlim = ax.get_xlim()\n",
    "    ylim = [slop * xlim[0] + intercept, slop * xlim[1] + intercept]\n",
    "    ax.plot(xlim, ylim, color='red')"
   ]
  },
  {
   "cell_type": "code",
   "execution_count": 48,
   "id": "192f26a3",
   "metadata": {},
   "outputs": [
    {
     "data": {
      "image/png": "[encoded data removed]",
      "text/plain": [
       "<Figure size 640x480 with 1 Axes>"
      ]
     },
     "metadata": {},
     "output_type": "display_data"
    }
   ],
   "source": [
    "ax = auto.plot.scatter('horsepower', 'mpg')\n",
    "abline(ax, results.params[0], results.params[1])"
   ]
  },
  {
   "cell_type": "markdown",
   "id": "ca4d8a34",
   "metadata": {},
   "source": [
    "## (c) Produce some of diagnostic plots of the least squares regression fit as described in the lab. Comment on any problems you see with the fit."
   ]
  },
  {
   "cell_type": "code",
   "execution_count": 49,
   "id": "1064e22c",
   "metadata": {},
   "outputs": [
    {
     "data": {
      "image/png": "[encoded data removed]",
      "text/plain": [
       "<Figure size 630x500 with 1 Axes>"
      ]
     },
     "metadata": {},
     "output_type": "display_data"
    }
   ],
   "source": [
    "fig, ax = plt.subplots(figsize=(6.3,5))\n",
    "ax.scatter(results.fittedvalues, results.resid)\n",
    "ax.set_xlabel('Fitted value') \n",
    "ax.set_ylabel('Residual')\n",
    "\n",
    "# have color black and dashed line\n",
    "ax.axhline(0, c='k', ls='--');"
   ]
  },
  {
   "cell_type": "markdown",
   "id": "82a026ac",
   "metadata": {},
   "source": [
    "There is evidence of non-linearity in the graph. So, we can try non linear approach for this problem to get the best fit which reduce the error between actual and predicted values."
   ]
  },
  {
   "cell_type": "code",
   "execution_count": 57,
   "id": "86fd00f9",
   "metadata": {},
   "outputs": [
    {
     "data": {
      "image/png": "[encoded data removed]",
      "text/plain": [
       "<Figure size 630x500 with 1 Axes>"
      ]
     },
     "metadata": {},
     "output_type": "display_data"
    }
   ],
   "source": [
    "infl = results.get_influence()\n",
    "ax = plt.subplots(figsize=(6.3,5))[1]\n",
    "ax.scatter(np.arange(X.shape[0]), infl.hat_matrix_diag, ) \n",
    "ax.set_xlabel('Index')\n",
    "ax.set_ylabel('Leverage') \n",
    "np.argmax(infl.hat_matrix_diag)\n",
    "ax.axhline(0.005, c='r', ls='--');\n",
    "plt.show()"
   ]
  },
  {
   "cell_type": "markdown",
   "id": "2416e875",
   "metadata": {},
   "source": [
    "Points above the line are have the most potential to affect the regression line.\n",
    "\n",
    "L.S = (1 + P) / n = 0.005"
   ]
  }
 ],
 "metadata": {
  "kernelspec": {
   "display_name": "Python 3 (ipykernel)",
   "language": "python",
   "name": "python3"
  },
  "language_info": {
   "codemirror_mode": {
    "name": "ipython",
    "version": 3
   },
   "file_extension": ".py",
   "mimetype": "text/x-python",
   "name": "python",
   "nbconvert_exporter": "python",
   "pygments_lexer": "ipython3",
   "version": "3.10.9"
  }
 },
 "nbformat": 4,
 "nbformat_minor": 5
}
