{
 "cells": [
  {
   "cell_type": "code",
   "execution_count": 4,
   "id": "f3eb2e4b",
   "metadata": {},
   "outputs": [
    {
     "name": "stdout",
     "output_type": "stream",
     "text": [
      "Requirement already satisfied: ISLP in /Users/khayam/anaconda3/lib/python3.10/site-packages (0.3.21)\n",
      "Requirement already satisfied: numpy<1.25,>=1.7.1 in /Users/khayam/anaconda3/lib/python3.10/site-packages (from ISLP) (1.24.4)\n",
      "Requirement already satisfied: scipy>=0.9 in /Users/khayam/anaconda3/lib/python3.10/site-packages (from ISLP) (1.11.4)\n",
      "Requirement already satisfied: pandas<=1.9,>=0.20 in /Users/khayam/anaconda3/lib/python3.10/site-packages (from ISLP) (1.5.3)\n",
      "Requirement already satisfied: lxml in /Users/khayam/anaconda3/lib/python3.10/site-packages (from ISLP) (4.9.1)\n",
      "Requirement already satisfied: scikit-learn>=1.2 in /Users/khayam/anaconda3/lib/python3.10/site-packages (from ISLP) (1.2.1)\n",
      "Requirement already satisfied: joblib in /Users/khayam/anaconda3/lib/python3.10/site-packages (from ISLP) (1.1.1)\n",
      "Requirement already satisfied: statsmodels>=0.13 in /Users/khayam/anaconda3/lib/python3.10/site-packages (from ISLP) (0.13.5)\n",
      "Requirement already satisfied: lifelines in /Users/khayam/anaconda3/lib/python3.10/site-packages (from ISLP) (0.28.0)\n",
      "Requirement already satisfied: pygam in /Users/khayam/anaconda3/lib/python3.10/site-packages (from ISLP) (0.9.0)\n",
      "Requirement already satisfied: torch in /Users/khayam/anaconda3/lib/python3.10/site-packages (from ISLP) (2.0.0)\n",
      "Requirement already satisfied: pytorch-lightning in /Users/khayam/anaconda3/lib/python3.10/site-packages (from ISLP) (2.1.3)\n",
      "Requirement already satisfied: torchmetrics in /Users/khayam/anaconda3/lib/python3.10/site-packages (from ISLP) (1.2.1)\n",
      "Requirement already satisfied: python-dateutil>=2.8.1 in /Users/khayam/anaconda3/lib/python3.10/site-packages (from pandas<=1.9,>=0.20->ISLP) (2.8.2)\n",
      "Requirement already satisfied: pytz>=2020.1 in /Users/khayam/anaconda3/lib/python3.10/site-packages (from pandas<=1.9,>=0.20->ISLP) (2022.7)\n",
      "Requirement already satisfied: threadpoolctl>=2.0.0 in /Users/khayam/anaconda3/lib/python3.10/site-packages (from scikit-learn>=1.2->ISLP) (2.2.0)\n",
      "Requirement already satisfied: patsy>=0.5.2 in /Users/khayam/anaconda3/lib/python3.10/site-packages (from statsmodels>=0.13->ISLP) (0.5.3)\n",
      "Requirement already satisfied: packaging>=21.3 in /Users/khayam/anaconda3/lib/python3.10/site-packages (from statsmodels>=0.13->ISLP) (23.2)\n",
      "Requirement already satisfied: matplotlib>=3.0 in /Users/khayam/anaconda3/lib/python3.10/site-packages (from lifelines->ISLP) (3.7.0)\n",
      "Requirement already satisfied: autograd>=1.5 in /Users/khayam/anaconda3/lib/python3.10/site-packages (from lifelines->ISLP) (1.6.2)\n",
      "Requirement already satisfied: autograd-gamma>=0.3 in /Users/khayam/anaconda3/lib/python3.10/site-packages (from lifelines->ISLP) (0.5.0)\n",
      "Requirement already satisfied: formulaic>=0.2.2 in /Users/khayam/anaconda3/lib/python3.10/site-packages (from lifelines->ISLP) (1.0.1)\n",
      "Requirement already satisfied: progressbar2<5.0.0,>=4.2.0 in /Users/khayam/anaconda3/lib/python3.10/site-packages (from pygam->ISLP) (4.3.2)\n",
      "Requirement already satisfied: tqdm>=4.57.0 in /Users/khayam/anaconda3/lib/python3.10/site-packages (from pytorch-lightning->ISLP) (4.64.1)\n",
      "Requirement already satisfied: PyYAML>=5.4 in /Users/khayam/anaconda3/lib/python3.10/site-packages (from pytorch-lightning->ISLP) (6.0)\n",
      "Requirement already satisfied: fsspec>=2022.5.0 in /Users/khayam/anaconda3/lib/python3.10/site-packages (from fsspec[http]>=2022.5.0->pytorch-lightning->ISLP) (2022.11.0)\n",
      "Requirement already satisfied: typing-extensions>=4.0.0 in /Users/khayam/anaconda3/lib/python3.10/site-packages (from pytorch-lightning->ISLP) (4.4.0)\n",
      "Requirement already satisfied: lightning-utilities>=0.8.0 in /Users/khayam/anaconda3/lib/python3.10/site-packages (from pytorch-lightning->ISLP) (0.10.0)\n",
      "Requirement already satisfied: filelock in /Users/khayam/anaconda3/lib/python3.10/site-packages (from torch->ISLP) (3.12.0)\n",
      "Requirement already satisfied: sympy in /Users/khayam/anaconda3/lib/python3.10/site-packages (from torch->ISLP) (1.11.1)\n",
      "Requirement already satisfied: networkx in /Users/khayam/anaconda3/lib/python3.10/site-packages (from torch->ISLP) (2.8.4)\n",
      "Requirement already satisfied: jinja2 in /Users/khayam/anaconda3/lib/python3.10/site-packages (from torch->ISLP) (3.1.2)\n",
      "Requirement already satisfied: future>=0.15.2 in /Users/khayam/anaconda3/lib/python3.10/site-packages (from autograd>=1.5->lifelines->ISLP) (0.18.3)\n",
      "Requirement already satisfied: interface-meta>=1.2.0 in /Users/khayam/anaconda3/lib/python3.10/site-packages (from formulaic>=0.2.2->lifelines->ISLP) (1.3.0)\n",
      "Requirement already satisfied: wrapt>=1.0 in /Users/khayam/anaconda3/lib/python3.10/site-packages (from formulaic>=0.2.2->lifelines->ISLP) (1.14.1)\n",
      "Requirement already satisfied: requests in /Users/khayam/anaconda3/lib/python3.10/site-packages (from fsspec[http]>=2022.5.0->pytorch-lightning->ISLP) (2.29.0)\n",
      "Requirement already satisfied: aiohttp!=4.0.0a0,!=4.0.0a1 in /Users/khayam/anaconda3/lib/python3.10/site-packages (from fsspec[http]>=2022.5.0->pytorch-lightning->ISLP) (3.8.4)\n",
      "Requirement already satisfied: setuptools in /Users/khayam/anaconda3/lib/python3.10/site-packages (from lightning-utilities>=0.8.0->pytorch-lightning->ISLP) (67.6.1)\n",
      "Requirement already satisfied: contourpy>=1.0.1 in /Users/khayam/anaconda3/lib/python3.10/site-packages (from matplotlib>=3.0->lifelines->ISLP) (1.0.5)\n",
      "Requirement already satisfied: cycler>=0.10 in /Users/khayam/anaconda3/lib/python3.10/site-packages (from matplotlib>=3.0->lifelines->ISLP) (0.11.0)\n",
      "Requirement already satisfied: fonttools>=4.22.0 in /Users/khayam/anaconda3/lib/python3.10/site-packages (from matplotlib>=3.0->lifelines->ISLP) (4.25.0)\n",
      "Requirement already satisfied: kiwisolver>=1.0.1 in /Users/khayam/anaconda3/lib/python3.10/site-packages (from matplotlib>=3.0->lifelines->ISLP) (1.4.4)\n",
      "Requirement already satisfied: pillow>=6.2.0 in /Users/khayam/anaconda3/lib/python3.10/site-packages (from matplotlib>=3.0->lifelines->ISLP) (9.4.0)\n",
      "Requirement already satisfied: pyparsing>=2.3.1 in /Users/khayam/anaconda3/lib/python3.10/site-packages (from matplotlib>=3.0->lifelines->ISLP) (3.0.9)\n",
      "Requirement already satisfied: six in /Users/khayam/anaconda3/lib/python3.10/site-packages (from patsy>=0.5.2->statsmodels>=0.13->ISLP) (1.16.0)\n",
      "Requirement already satisfied: python-utils>=3.8.1 in /Users/khayam/anaconda3/lib/python3.10/site-packages (from progressbar2<5.0.0,>=4.2.0->pygam->ISLP) (3.8.1)\n",
      "Requirement already satisfied: MarkupSafe>=2.0 in /Users/khayam/anaconda3/lib/python3.10/site-packages (from jinja2->torch->ISLP) (2.1.1)\n",
      "Requirement already satisfied: mpmath>=0.19 in /Users/khayam/anaconda3/lib/python3.10/site-packages/mpmath-1.2.1-py3.10.egg (from sympy->torch->ISLP) (1.2.1)\n",
      "Requirement already satisfied: attrs>=17.3.0 in /Users/khayam/anaconda3/lib/python3.10/site-packages (from aiohttp!=4.0.0a0,!=4.0.0a1->fsspec[http]>=2022.5.0->pytorch-lightning->ISLP) (22.1.0)\n",
      "Requirement already satisfied: charset-normalizer<4.0,>=2.0 in /Users/khayam/anaconda3/lib/python3.10/site-packages (from aiohttp!=4.0.0a0,!=4.0.0a1->fsspec[http]>=2022.5.0->pytorch-lightning->ISLP) (2.0.4)\n",
      "Requirement already satisfied: multidict<7.0,>=4.5 in /Users/khayam/anaconda3/lib/python3.10/site-packages (from aiohttp!=4.0.0a0,!=4.0.0a1->fsspec[http]>=2022.5.0->pytorch-lightning->ISLP) (6.0.4)\n",
      "Requirement already satisfied: async-timeout<5.0,>=4.0.0a3 in /Users/khayam/anaconda3/lib/python3.10/site-packages (from aiohttp!=4.0.0a0,!=4.0.0a1->fsspec[http]>=2022.5.0->pytorch-lightning->ISLP) (4.0.2)\n",
      "Requirement already satisfied: yarl<2.0,>=1.0 in /Users/khayam/anaconda3/lib/python3.10/site-packages (from aiohttp!=4.0.0a0,!=4.0.0a1->fsspec[http]>=2022.5.0->pytorch-lightning->ISLP) (1.9.2)\n",
      "Requirement already satisfied: frozenlist>=1.1.1 in /Users/khayam/anaconda3/lib/python3.10/site-packages (from aiohttp!=4.0.0a0,!=4.0.0a1->fsspec[http]>=2022.5.0->pytorch-lightning->ISLP) (1.3.3)\n",
      "Requirement already satisfied: aiosignal>=1.1.2 in /Users/khayam/anaconda3/lib/python3.10/site-packages (from aiohttp!=4.0.0a0,!=4.0.0a1->fsspec[http]>=2022.5.0->pytorch-lightning->ISLP) (1.3.1)\n",
      "Requirement already satisfied: idna<4,>=2.5 in /Users/khayam/anaconda3/lib/python3.10/site-packages (from requests->fsspec[http]>=2022.5.0->pytorch-lightning->ISLP) (3.4)\n",
      "Requirement already satisfied: urllib3<1.27,>=1.21.1 in /Users/khayam/anaconda3/lib/python3.10/site-packages (from requests->fsspec[http]>=2022.5.0->pytorch-lightning->ISLP) (1.26.14)\n",
      "Requirement already satisfied: certifi>=2017.4.17 in /Users/khayam/anaconda3/lib/python3.10/site-packages (from requests->fsspec[http]>=2022.5.0->pytorch-lightning->ISLP) (2022.12.7)\n"
     ]
    },
    {
     "name": "stdout",
     "output_type": "stream",
     "text": [
      "\r\n",
      "\u001b[1m[\u001b[0m\u001b[34;49mnotice\u001b[0m\u001b[1;39;49m]\u001b[0m\u001b[39;49m A new release of pip is available: \u001b[0m\u001b[31;49m23.3.1\u001b[0m\u001b[39;49m -> \u001b[0m\u001b[32;49m23.3.2\u001b[0m\r\n",
      "\u001b[1m[\u001b[0m\u001b[34;49mnotice\u001b[0m\u001b[1;39;49m]\u001b[0m\u001b[39;49m To update, run: \u001b[0m\u001b[32;49mpip install --upgrade pip\u001b[0m\r\n"
     ]
    }
   ],
   "source": [
    "#!pip install ISLP"
   ]
  },
  {
   "cell_type": "code",
   "execution_count": 5,
   "id": "b27038a8",
   "metadata": {},
   "outputs": [],
   "source": [
    "from ISLP import load_data\n",
    "Boston = load_data('Boston')"
   ]
  },
  {
   "cell_type": "markdown",
   "id": "ab2cfa1f",
   "metadata": {},
   "source": [
    "**Boston Housing Dataset**\n",
    "1. crim: per capita crime rate by town.\n",
    "2. zn: proportion of residential land zoned for lots over 25,000 sq.ft.\n",
    "3. indus: proportion of non-retail business acres per town.\n",
    "4. chas: Charles River dummy variable (= 1 if tract bounds river; 0 otherwise).\n",
    "5. nox: nitrogen oxides concentration (parts per 10 million).\n",
    "6. rm: average number of rooms per dwelling.\n",
    "7. age: proportion of owner-occupied units built prior to 1940.\n",
    "8. dis: weighted mean of distances to five Boston employment centres.\n",
    "9. rad: index of accessibility to radial highways.\n",
    "10. tax: full-value property-tax rate per 10,000 dollor.\n",
    "11. ptratio: pupil-teacher ratio by town.\n",
    "12. lstat: lower status of the population (percent).\n",
    "13. medv: median value of owner-occupied homes in 1000s dollor."
   ]
  },
  {
   "cell_type": "code",
   "execution_count": null,
   "id": "9700863b",
   "metadata": {},
   "outputs": [],
   "source": []
  }
 ],
 "metadata": {
  "kernelspec": {
   "display_name": "Python 3 (ipykernel)",
   "language": "python",
   "name": "python3"
  },
  "language_info": {
   "codemirror_mode": {
    "name": "ipython",
    "version": 3
   },
   "file_extension": ".py",
   "mimetype": "text/x-python",
   "name": "python",
   "nbconvert_exporter": "python",
   "pygments_lexer": "ipython3",
   "version": "3.10.9"
  }
 },
 "nbformat": 4,
 "nbformat_minor": 5
}
