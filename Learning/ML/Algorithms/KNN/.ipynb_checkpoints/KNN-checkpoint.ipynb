{
 "cells": [
  {
   "cell_type": "code",
   "execution_count": 25,
   "id": "66bd80b1",
   "metadata": {},
   "outputs": [],
   "source": [
    "import numpy as np\n",
    "import pandas as pd\n",
    "import matplotlib.pyplot as plt"
   ]
  },
  {
   "cell_type": "code",
   "execution_count": 26,
   "id": "73ac0114",
   "metadata": {},
   "outputs": [
    {
     "data": {
      "text/html": [
       "<div>\n",
       "<style scoped>\n",
       "    .dataframe tbody tr th:only-of-type {\n",
       "        vertical-align: middle;\n",
       "    }\n",
       "\n",
       "    .dataframe tbody tr th {\n",
       "        vertical-align: top;\n",
       "    }\n",
       "\n",
       "    .dataframe thead th {\n",
       "        text-align: right;\n",
       "    }\n",
       "</style>\n",
       "<table border=\"1\" class=\"dataframe\">\n",
       "  <thead>\n",
       "    <tr style=\"text-align: right;\">\n",
       "      <th></th>\n",
       "      <th>User ID</th>\n",
       "      <th>Gender</th>\n",
       "      <th>Age</th>\n",
       "      <th>EstimatedSalary</th>\n",
       "      <th>Purchased</th>\n",
       "    </tr>\n",
       "  </thead>\n",
       "  <tbody>\n",
       "    <tr>\n",
       "      <th>0</th>\n",
       "      <td>15624510</td>\n",
       "      <td>Male</td>\n",
       "      <td>19</td>\n",
       "      <td>19000</td>\n",
       "      <td>0</td>\n",
       "    </tr>\n",
       "    <tr>\n",
       "      <th>1</th>\n",
       "      <td>15810944</td>\n",
       "      <td>Male</td>\n",
       "      <td>35</td>\n",
       "      <td>20000</td>\n",
       "      <td>0</td>\n",
       "    </tr>\n",
       "    <tr>\n",
       "      <th>2</th>\n",
       "      <td>15668575</td>\n",
       "      <td>Female</td>\n",
       "      <td>26</td>\n",
       "      <td>43000</td>\n",
       "      <td>0</td>\n",
       "    </tr>\n",
       "    <tr>\n",
       "      <th>3</th>\n",
       "      <td>15603246</td>\n",
       "      <td>Female</td>\n",
       "      <td>27</td>\n",
       "      <td>57000</td>\n",
       "      <td>0</td>\n",
       "    </tr>\n",
       "    <tr>\n",
       "      <th>4</th>\n",
       "      <td>15804002</td>\n",
       "      <td>Male</td>\n",
       "      <td>19</td>\n",
       "      <td>76000</td>\n",
       "      <td>0</td>\n",
       "    </tr>\n",
       "  </tbody>\n",
       "</table>\n",
       "</div>"
      ],
      "text/plain": [
       "    User ID  Gender  Age  EstimatedSalary  Purchased\n",
       "0  15624510    Male   19            19000          0\n",
       "1  15810944    Male   35            20000          0\n",
       "2  15668575  Female   26            43000          0\n",
       "3  15603246  Female   27            57000          0\n",
       "4  15804002    Male   19            76000          0"
      ]
     },
     "execution_count": 26,
     "metadata": {},
     "output_type": "execute_result"
    }
   ],
   "source": [
    "df = pd.read_csv('Social_Network_Ads.csv')\n",
    "df.head()"
   ]
  },
  {
   "cell_type": "code",
   "execution_count": 27,
   "id": "e245791e",
   "metadata": {},
   "outputs": [
    {
     "data": {
      "text/plain": [
       "(400, 2)"
      ]
     },
     "execution_count": 27,
     "metadata": {},
     "output_type": "execute_result"
    }
   ],
   "source": [
    "X = df.iloc[:,2:4].values\n",
    "X.shape"
   ]
  },
  {
   "cell_type": "code",
   "execution_count": 28,
   "id": "d17c3af7",
   "metadata": {},
   "outputs": [
    {
     "data": {
      "text/plain": [
       "(400,)"
      ]
     },
     "execution_count": 28,
     "metadata": {},
     "output_type": "execute_result"
    }
   ],
   "source": [
    "y = df.iloc[:,-1].values\n",
    "y.shape"
   ]
  },
  {
   "cell_type": "code",
   "execution_count": 29,
   "id": "173321d3",
   "metadata": {},
   "outputs": [],
   "source": [
    "from sklearn.model_selection import train_test_split\n",
    "X_train,X_test,y_train,y_test = train_test_split(X,y,test_size=0.20)"
   ]
  },
  {
   "cell_type": "code",
   "execution_count": 30,
   "id": "df2076fa",
   "metadata": {},
   "outputs": [],
   "source": [
    "from sklearn.preprocessing import StandardScaler\n",
    "scaler = StandardScaler()"
   ]
  },
  {
   "cell_type": "code",
   "execution_count": 31,
   "id": "734064c7",
   "metadata": {},
   "outputs": [
    {
     "data": {
      "text/plain": [
       "array([[-0.24237424,  0.09787982],\n",
       "       [ 1.10481756, -0.19844509],\n",
       "       [ 0.33499368,  0.24604228],\n",
       "       [ 1.87464145, -0.34660755],\n",
       "       [-0.91597014,  0.5127347 ],\n",
       "       [-1.01219813, -1.62080468],\n",
       "       [-0.04991827,  2.20178672],\n",
       "       [-0.72351417,  1.04611955],\n",
       "       [ 1.48972951,  2.11288925],\n",
       "       [ 1.29727353, -1.44300974],\n",
       "       [ 0.23876569, -0.43550502],\n",
       "       [-1.2046541 ,  0.45346972],\n",
       "       [ 0.62367763,  1.99435928],\n",
       "       [-1.01219813, -0.40587253],\n",
       "       [-0.24237424,  0.21640979],\n",
       "       [ 1.10481756,  0.06824733],\n",
       "       [-0.43483021, -0.85035991],\n",
       "       [ 1.10481756, -1.29484728],\n",
       "       [-0.81974215, -0.31697506],\n",
       "       [ 0.23876569,  2.08325676],\n",
       "       [ 0.33499368,  0.00898235],\n",
       "       [ 2.16332541,  0.33493976],\n",
       "       [ 0.43122166, -0.5244025 ],\n",
       "       [-0.72351417,  0.45346972],\n",
       "       [-1.49333806, -0.49477001],\n",
       "       [ 0.23876569,  0.09787982],\n",
       "       [-0.33860223, -0.85035991],\n",
       "       [-1.68579403,  0.30530726],\n",
       "       [-0.14614625, -0.25771007],\n",
       "       [-0.24237424, -1.44300974],\n",
       "       [ 0.43122166,  0.24604228],\n",
       "       [ 0.23876569, -0.37624004],\n",
       "       [ 1.48972951,  0.30530726],\n",
       "       [ 1.39350152,  1.96472679],\n",
       "       [-0.62728618, -1.68006967],\n",
       "       [ 0.04630972, -0.64293246],\n",
       "       [ 0.1425377 , -0.02065014],\n",
       "       [-0.62728618, -1.11705233],\n",
       "       [ 0.81613361,  0.21640979],\n",
       "       [-0.81974215,  0.33493976],\n",
       "       [-0.04991827,  0.24604228],\n",
       "       [-0.62728618, -0.1688126 ],\n",
       "       [-1.87825   , -0.10954762],\n",
       "       [-1.10842611,  0.24604228],\n",
       "       [ 0.23876569, -0.43550502],\n",
       "       [-0.81974215, -0.85035991],\n",
       "       [-0.24237424, -0.64293246],\n",
       "       [ 1.97086944, -1.44300974],\n",
       "       [-1.10842611,  1.37207696],\n",
       "       [ 0.62367763, -0.96888987],\n",
       "       [-1.78202201,  0.12751232],\n",
       "       [ 1.97086944,  0.69052965],\n",
       "       [ 0.1425377 ,  1.84619682],\n",
       "       [ 1.10481756, -1.05778735],\n",
       "       [-0.5310582 , -1.59117219],\n",
       "       [-1.10842611, -1.65043718],\n",
       "       [-1.58956604,  0.00898235],\n",
       "       [-0.24237424,  0.09787982],\n",
       "       [-1.2046541 , -1.47264223],\n",
       "       [ 0.91236159,  2.14252174],\n",
       "       [-0.14614625, -0.58366748],\n",
       "       [ 0.71990562, -1.35411226],\n",
       "       [ 1.20104555, -1.05778735],\n",
       "       [-0.43483021,  2.2906842 ],\n",
       "       [-1.39711007, -0.1688126 ],\n",
       "       [-0.04991827, -0.02065014],\n",
       "       [-0.04991827,  0.1867773 ],\n",
       "       [ 0.23876569, -0.02065014],\n",
       "       [ 0.81613361, -1.44300974],\n",
       "       [ 2.06709742,  0.33493976],\n",
       "       [ 1.00858958,  1.84619682],\n",
       "       [-0.24237424,  0.48310221],\n",
       "       [ 0.91236159,  1.2239145 ],\n",
       "       [ 0.1425377 ,  1.49060693],\n",
       "       [ 2.16332541,  1.07575204],\n",
       "       [-1.49333806, -0.25771007],\n",
       "       [ 2.06709742,  0.48310221],\n",
       "       [-0.91597014,  0.45346972],\n",
       "       [ 1.00858958,  0.5423672 ],\n",
       "       [ 1.97086944, -0.99852236],\n",
       "       [ 0.33499368,  0.00898235],\n",
       "       [ 0.43122166,  0.21640979],\n",
       "       [ 0.81613361,  1.34244447],\n",
       "       [-0.91597014, -1.02815485],\n",
       "       [ 0.43122166, -0.55403499],\n",
       "       [-0.5310582 ,  1.34244447],\n",
       "       [-1.87825   ,  0.30530726],\n",
       "       [-1.01219813,  0.72016215],\n",
       "       [-0.14614625,  1.37207696],\n",
       "       [-0.04991827, -0.28734257],\n",
       "       [-0.33860223, -0.85035991],\n",
       "       [ 0.04630972, -0.61329997],\n",
       "       [ 0.81613361, -1.17631731],\n",
       "       [-0.24237424, -0.43550502],\n",
       "       [-1.2046541 ,  0.21640979],\n",
       "       [ 0.91236159,  1.04611955],\n",
       "       [ 2.06709742, -0.8799924 ],\n",
       "       [-0.24237424, -0.37624004],\n",
       "       [ 0.23876569, -0.31697506],\n",
       "       [ 0.1425377 ,  0.15714481],\n",
       "       [ 1.68218548, -0.96888987],\n",
       "       [ 0.71990562, -0.79109492],\n",
       "       [-1.78202201, -0.05028263],\n",
       "       [-1.30088208, -1.5615397 ],\n",
       "       [-1.01219813, -0.5244025 ],\n",
       "       [-0.14614625, -0.34660755],\n",
       "       [-0.72351417,  0.21640979],\n",
       "       [ 1.00858958,  2.05362426],\n",
       "       [-0.81974215,  0.24604228],\n",
       "       [ 1.77841346,  1.81656433],\n",
       "       [-1.30088208, -0.40587253],\n",
       "       [-1.01219813,  0.48310221],\n",
       "       [-0.24237424, -0.19844509],\n",
       "       [ 1.10481756, -0.96888987],\n",
       "       [ 0.43122166,  2.2906842 ],\n",
       "       [ 0.04630972, -0.02065014],\n",
       "       [ 0.33499368, -0.34660755],\n",
       "       [-1.68579403, -0.67256496],\n",
       "       [ 0.71990562, -1.47264223],\n",
       "       [ 0.81613361, -1.47264223],\n",
       "       [-0.04991827,  0.00898235],\n",
       "       [-0.43483021, -1.2059498 ],\n",
       "       [ 0.71990562,  1.75729935],\n",
       "       [ 0.33499368, -0.79109492],\n",
       "       [ 2.16332541, -0.8799924 ],\n",
       "       [-0.33860223,  1.19428201],\n",
       "       [-0.33860223,  1.28317948],\n",
       "       [ 0.43122166, -0.19844509],\n",
       "       [-1.01219813,  0.5423672 ],\n",
       "       [ 1.48972951,  0.00898235],\n",
       "       [-0.24237424,  2.23141921],\n",
       "       [ 2.06709742, -1.26521479],\n",
       "       [-0.5310582 ,  1.43134194],\n",
       "       [ 0.91236159, -1.53190721],\n",
       "       [ 0.91236159,  0.98685457],\n",
       "       [ 1.39350152,  1.25354699],\n",
       "       [-1.10842611, -1.17631731],\n",
       "       [-0.43483021, -0.34660755],\n",
       "       [ 0.71990562,  0.21640979],\n",
       "       [ 0.33499368, -1.2355823 ],\n",
       "       [ 0.04630972, -0.31697506],\n",
       "       [ 1.97086944,  2.14252174],\n",
       "       [-0.91597014,  0.21640979],\n",
       "       [ 0.43122166,  0.03861484],\n",
       "       [-0.04991827, -1.14668482],\n",
       "       [-1.78202201, -1.50227472],\n",
       "       [ 0.81613361,  0.72016215],\n",
       "       [ 1.39350152,  2.32031669],\n",
       "       [ 0.04630972,  1.2239145 ],\n",
       "       [-1.58956604, -0.10954762],\n",
       "       [-0.04991827, -0.58366748],\n",
       "       [-0.04991827,  0.24604228],\n",
       "       [ 1.87464145,  0.06824733],\n",
       "       [-1.10842611,  0.36457225],\n",
       "       [-0.24237424,  1.07575204],\n",
       "       [ 1.20104555,  0.48310221],\n",
       "       [-0.43483021, -1.29484728],\n",
       "       [-0.24237424, -0.99852236],\n",
       "       [ 0.91236159, -0.73182994],\n",
       "       [-0.14614625,  0.09787982],\n",
       "       [ 1.00858958, -1.14668482],\n",
       "       [ 1.00858958,  0.72016215],\n",
       "       [ 1.20104555, -1.53190721],\n",
       "       [ 2.16332541,  0.89795709],\n",
       "       [ 0.23876569, -0.73182994],\n",
       "       [ 1.58595749,  0.95722208],\n",
       "       [-0.14614625,  0.80905962],\n",
       "       [-0.24237424, -0.02065014],\n",
       "       [-0.24237424,  0.00898235],\n",
       "       [ 0.33499368, -0.58366748],\n",
       "       [-0.81974215,  2.2610517 ],\n",
       "       [ 1.10481756,  2.05362426],\n",
       "       [-0.72351417,  0.5127347 ],\n",
       "       [-0.14614625,  2.14252174],\n",
       "       [ 1.00858958,  1.40170945],\n",
       "       [ 1.39350152, -1.50227472],\n",
       "       [-1.30088208, -1.32447977],\n",
       "       [-0.5310582 ,  2.32031669],\n",
       "       [-0.24237424, -0.55403499],\n",
       "       [ 0.1425377 ,  0.03861484],\n",
       "       [ 0.33499368,  0.45346972],\n",
       "       [-1.01219813,  0.36457225],\n",
       "       [ 0.43122166, -0.22807758],\n",
       "       [-0.24237424, -1.32447977],\n",
       "       [-1.10842611,  0.24604228],\n",
       "       [-1.10842611,  0.00898235],\n",
       "       [ 0.33499368,  0.00898235],\n",
       "       [-0.24237424, -0.82072741],\n",
       "       [-1.78202201, -1.5615397 ],\n",
       "       [ 1.00858958, -1.26521479],\n",
       "       [ 0.04630972,  1.19428201],\n",
       "       [-0.72351417,  1.87582931],\n",
       "       [ 0.43122166, -0.19844509],\n",
       "       [-1.87825   , -0.58366748],\n",
       "       [-0.62728618, -0.10954762],\n",
       "       [ 1.77841346, -0.34660755],\n",
       "       [-0.91597014, -0.37624004],\n",
       "       [-1.39711007, -1.29484728],\n",
       "       [-0.62728618, -0.40587253],\n",
       "       [ 1.58595749,  1.07575204],\n",
       "       [ 0.1425377 , -0.37624004],\n",
       "       [ 0.23876569,  0.1867773 ],\n",
       "       [ 0.04630972, -0.37624004],\n",
       "       [ 0.33499368,  0.00898235],\n",
       "       [-0.91597014,  1.52023942],\n",
       "       [ 0.23876569, -0.43550502],\n",
       "       [-0.24237424, -0.64293246],\n",
       "       [ 0.71990562, -1.17631731],\n",
       "       [ 0.1425377 ,  0.72016215],\n",
       "       [ 0.43122166,  0.09787982],\n",
       "       [ 0.33499368, -0.02065014],\n",
       "       [-1.68579403, -1.05778735],\n",
       "       [-0.62728618,  0.5127347 ],\n",
       "       [-0.04991827,  0.63126467],\n",
       "       [ 0.52744965,  1.69803437],\n",
       "       [ 0.91236159, -0.85035991],\n",
       "       [-0.04991827,  2.14252174],\n",
       "       [-0.04991827,  1.9350943 ],\n",
       "       [-1.30088208, -1.17631731],\n",
       "       [-0.72351417,  1.31281198],\n",
       "       [-0.24237424, -0.96888987],\n",
       "       [-1.30088208,  0.36457225],\n",
       "       [-0.43483021,  1.2239145 ],\n",
       "       [ 0.23876569,  0.00898235],\n",
       "       [ 0.23876569, -0.19844509],\n",
       "       [ 0.91236159, -1.38374475],\n",
       "       [ 0.91236159, -1.2355823 ],\n",
       "       [ 0.43122166,  1.07575204],\n",
       "       [-0.81974215,  0.09787982],\n",
       "       [ 1.97086944,  0.8683246 ],\n",
       "       [-0.24237424, -0.31697506],\n",
       "       [-0.72351417, -0.67256496],\n",
       "       [ 2.16332541, -0.8799924 ],\n",
       "       [-1.10842611, -1.68006967],\n",
       "       [-0.14614625,  1.5795044 ],\n",
       "       [-0.14614625, -0.64293246],\n",
       "       [ 1.10481756, -1.29484728],\n",
       "       [-1.87825   ,  0.42383723],\n",
       "       [-0.91597014,  0.36457225],\n",
       "       [-1.10842611, -0.85035991],\n",
       "       [ 1.29727353,  2.20178672],\n",
       "       [-0.91597014,  0.39420474],\n",
       "       [-1.10842611, -1.08741984],\n",
       "       [ 0.43122166,  0.5423672 ],\n",
       "       [ 0.43122166, -0.5244025 ],\n",
       "       [-0.24237424,  0.00898235],\n",
       "       [-0.43483021, -0.61329997],\n",
       "       [-1.30088208, -0.49477001],\n",
       "       [-0.04991827, -0.43550502],\n",
       "       [-1.68579403,  0.30530726],\n",
       "       [-1.01219813, -1.2059498 ],\n",
       "       [-1.68579403, -1.44300974],\n",
       "       [ 1.29727353,  1.84619682],\n",
       "       [-1.78202201, -1.38374475],\n",
       "       [ 0.91236159, -0.61329997],\n",
       "       [-1.68579403,  0.06824733],\n",
       "       [-0.04991827,  0.15714481],\n",
       "       [-1.58956604, -1.65043718],\n",
       "       [ 1.00858958,  0.06824733],\n",
       "       [-1.58956604,  0.48310221],\n",
       "       [ 0.1425377 , -0.8799924 ],\n",
       "       [-1.10842611, -0.58366748],\n",
       "       [ 0.1425377 ,  0.21640979],\n",
       "       [-1.10842611, -1.68006967],\n",
       "       [-1.39711007, -0.25771007],\n",
       "       [-1.87825   , -0.82072741],\n",
       "       [-0.24237424,  0.15714481],\n",
       "       [-1.10842611,  0.42383723],\n",
       "       [ 0.33499368, -0.58366748],\n",
       "       [-0.04991827, -0.05028263],\n",
       "       [ 1.87464145, -1.35411226],\n",
       "       [-0.5310582 ,  0.83869211],\n",
       "       [ 0.43122166,  0.95722208],\n",
       "       [-0.81974215, -0.85035991],\n",
       "       [ 0.81613361, -0.90962489],\n",
       "       [ 1.48972951,  0.95722208],\n",
       "       [-1.01219813, -0.40587253],\n",
       "       [-0.43483021, -0.07991513],\n",
       "       [-0.72351417, -0.28734257],\n",
       "       [-1.2046541 ,  0.24604228],\n",
       "       [ 0.04630972, -0.19844509],\n",
       "       [ 0.04630972, -0.02065014],\n",
       "       [ 0.43122166, -0.05028263],\n",
       "       [ 1.10481756,  0.5127347 ],\n",
       "       [ 1.97086944, -0.73182994],\n",
       "       [ 2.06709742,  2.11288925],\n",
       "       [ 0.52744965,  1.81656433],\n",
       "       [-1.39711007, -0.70219745],\n",
       "       [-1.10842611, -1.2355823 ],\n",
       "       [-0.91597014, -0.82072741],\n",
       "       [ 0.33499368, -0.61329997],\n",
       "       [ 0.81613361,  0.06824733],\n",
       "       [ 1.00858958, -1.2355823 ],\n",
       "       [ 0.1425377 ,  0.09787982],\n",
       "       [ 0.1425377 , -0.02065014],\n",
       "       [-0.24237424, -0.34660755],\n",
       "       [ 0.1425377 ,  1.84619682],\n",
       "       [ 0.04630972,  0.24604228],\n",
       "       [-1.2046541 ,  0.5423672 ],\n",
       "       [-1.30088208, -0.49477001],\n",
       "       [-0.72351417,  0.24604228],\n",
       "       [-0.62728618,  1.37207696],\n",
       "       [ 1.00858958,  1.96472679],\n",
       "       [ 1.77841346,  0.95722208],\n",
       "       [-0.14614625, -0.5244025 ],\n",
       "       [ 1.39350152,  0.5423672 ],\n",
       "       [-0.04991827, -0.55403499],\n",
       "       [-0.81974215, -1.29484728],\n",
       "       [-1.49333806,  0.27567477],\n",
       "       [ 0.81613361, -0.37624004],\n",
       "       [-0.81974215,  0.33493976],\n",
       "       [-0.62728618,  0.06824733],\n",
       "       [-0.04991827, -0.49477001],\n",
       "       [-0.14614625, -1.14668482],\n",
       "       [-0.24237424,  0.03861484],\n",
       "       [-0.24237424,  0.74979464],\n",
       "       [-0.24237424, -0.40587253],\n",
       "       [-1.39711007, -1.53190721],\n",
       "       [ 1.48972951, -1.11705233],\n",
       "       [ 0.81613361,  0.48310221]])"
      ]
     },
     "execution_count": 31,
     "metadata": {},
     "output_type": "execute_result"
    }
   ],
   "source": [
    "X_train = scaler.fit_transform(X_train)\n",
    "X_train"
   ]
  },
  {
   "cell_type": "code",
   "execution_count": 46,
   "id": "376a0f1f",
   "metadata": {},
   "outputs": [
    {
     "data": {
      "text/plain": [
       "array([[ 1.93344124,  1.9929869 ],\n",
       "       [ 0.44617875,  1.46601277],\n",
       "       [-1.41289937,  0.58772254],\n",
       "       [ 1.56162561,  1.8466052 ],\n",
       "       [-0.01859078, -0.20273866],\n",
       "       [-1.04108374,  0.79265693],\n",
       "       [ 0.63208656, -1.16885791],\n",
       "       [ 2.02639514, -0.81754182],\n",
       "       [-0.2974525 ,  0.85120961],\n",
       "       [ 1.00390218,  0.76338059],\n",
       "       [-0.76222203, -1.31523961],\n",
       "       [-0.2974525 , -0.20273866],\n",
       "       [ 0.16731703, -0.05635696],\n",
       "       [-1.04108374, -0.14418598],\n",
       "       [-0.94812984, -0.20273866],\n",
       "       [ 0.81799437, -0.37839671],\n",
       "       [ 1.09685609, -0.52477841],\n",
       "       [-0.11154469,  0.49989352],\n",
       "       [ 0.72504046, -0.99319986],\n",
       "       [-0.20449859,  1.87588154],\n",
       "       [-0.01859078, -0.02708062],\n",
       "       [ 1.74753343, -0.84681816],\n",
       "       [ 0.07436312,  1.29035472],\n",
       "       [-1.78471499, -1.05175255],\n",
       "       [-0.76222203, -1.3737923 ],\n",
       "       [ 0.35322484,  0.52916986],\n",
       "       [-0.3904064 , -1.08102889],\n",
       "       [-0.66926812, -1.28596327],\n",
       "       [-1.78471499,  0.67555157],\n",
       "       [ 1.46867171,  0.23640645],\n",
       "       [ 0.81799437, -0.34912036],\n",
       "       [ 0.26027094, -0.0856333 ],\n",
       "       [-1.13403765,  0.5584462 ],\n",
       "       [-0.57631421,  2.13936861],\n",
       "       [-0.2974525 , -0.43694939],\n",
       "       [-1.22699155, -0.84681816],\n",
       "       [-0.11154469,  0.35351182],\n",
       "       [-1.50585327, -1.28596327],\n",
       "       [ 0.26027094,  0.03147207],\n",
       "       [ 0.07436312, -0.02708062],\n",
       "       [ 2.02639514, -0.46622573],\n",
       "       [-0.94812984, -0.8760945 ],\n",
       "       [-0.66926812,  0.4120645 ],\n",
       "       [-1.69176108,  0.70482791],\n",
       "       [ 0.07436312, -0.58333109],\n",
       "       [-0.48336031, -0.61260743],\n",
       "       [-0.11154469,  0.38278816],\n",
       "       [-0.2974525 , -1.08102889],\n",
       "       [-0.94812984, -0.0856333 ],\n",
       "       [-0.85517593, -0.43694939],\n",
       "       [ 0.81799437, -0.81754182],\n",
       "       [ 0.91094827, -0.84681816],\n",
       "       [ 0.26027094,  0.49989352],\n",
       "       [-1.31994546,  0.79265693],\n",
       "       [-0.2974525 , -1.16885791],\n",
       "       [ 1.74753343,  1.75877618],\n",
       "       [ 1.56162561,  1.9929869 ],\n",
       "       [ 0.81799437, -1.13958157],\n",
       "       [-0.57631421, -1.28596327],\n",
       "       [ 0.72504046,  0.58772254],\n",
       "       [-0.66926812,  0.26568279],\n",
       "       [ 0.91094827,  2.02226325],\n",
       "       [ 0.16731703,  1.31963106],\n",
       "       [-1.31994546, -1.13958157],\n",
       "       [-1.04108374,  2.19792129],\n",
       "       [-1.13403765, -1.31523961],\n",
       "       [ 0.91094827, -0.61260743],\n",
       "       [ 1.2827639 , -0.70043646],\n",
       "       [ 1.00390218,  0.70482791],\n",
       "       [-1.50585327, -1.0224762 ],\n",
       "       [ 1.46867171, -1.05175255],\n",
       "       [-1.04108374, -1.22741059],\n",
       "       [ 1.93344124,  0.4120645 ],\n",
       "       [-0.57631421,  0.70482791],\n",
       "       [-0.57631421,  1.61239447],\n",
       "       [ 0.91094827, -0.78826548],\n",
       "       [-0.2974525 , -1.22741059],\n",
       "       [-0.01859078, -0.34912036],\n",
       "       [-0.3904064 ,  0.29495913],\n",
       "       [ 0.16731703,  0.38278816]])"
      ]
     },
     "execution_count": 46,
     "metadata": {},
     "output_type": "execute_result"
    }
   ],
   "source": [
    "X_test = scaler.fit_transform(X_test)\n",
    "X_test"
   ]
  },
  {
   "cell_type": "code",
   "execution_count": 47,
   "id": "4fda32e9",
   "metadata": {},
   "outputs": [
    {
     "data": {
      "text/plain": [
       "17.88854381999832"
      ]
     },
     "execution_count": 47,
     "metadata": {},
     "output_type": "execute_result"
    }
   ],
   "source": [
    "np.sqrt(X_train.shape[0]) "
   ]
  },
  {
   "cell_type": "code",
   "execution_count": 48,
   "id": "4b374f32",
   "metadata": {},
   "outputs": [],
   "source": [
    "k = 17"
   ]
  },
  {
   "cell_type": "code",
   "execution_count": 49,
   "id": "1bdf24fa",
   "metadata": {},
   "outputs": [],
   "source": [
    "from sklearn.neighbors import KNeighborsClassifier\n",
    "knn = KNeighborsClassifier(n_neighbors=k)"
   ]
  },
  {
   "cell_type": "code",
   "execution_count": 50,
   "id": "0f7aece7",
   "metadata": {},
   "outputs": [
    {
     "data": {
      "text/html": [
       "<style>#sk-container-id-3 {color: black;background-color: white;}#sk-container-id-3 pre{padding: 0;}#sk-container-id-3 div.sk-toggleable {background-color: white;}#sk-container-id-3 label.sk-toggleable__label {cursor: pointer;display: block;width: 100%;margin-bottom: 0;padding: 0.3em;box-sizing: border-box;text-align: center;}#sk-container-id-3 label.sk-toggleable__label-arrow:before {content: \"▸\";float: left;margin-right: 0.25em;color: #696969;}#sk-container-id-3 label.sk-toggleable__label-arrow:hover:before {color: black;}#sk-container-id-3 div.sk-estimator:hover label.sk-toggleable__label-arrow:before {color: black;}#sk-container-id-3 div.sk-toggleable__content {max-height: 0;max-width: 0;overflow: hidden;text-align: left;background-color: #f0f8ff;}#sk-container-id-3 div.sk-toggleable__content pre {margin: 0.2em;color: black;border-radius: 0.25em;background-color: #f0f8ff;}#sk-container-id-3 input.sk-toggleable__control:checked~div.sk-toggleable__content {max-height: 200px;max-width: 100%;overflow: auto;}#sk-container-id-3 input.sk-toggleable__control:checked~label.sk-toggleable__label-arrow:before {content: \"▾\";}#sk-container-id-3 div.sk-estimator input.sk-toggleable__control:checked~label.sk-toggleable__label {background-color: #d4ebff;}#sk-container-id-3 div.sk-label input.sk-toggleable__control:checked~label.sk-toggleable__label {background-color: #d4ebff;}#sk-container-id-3 input.sk-hidden--visually {border: 0;clip: rect(1px 1px 1px 1px);clip: rect(1px, 1px, 1px, 1px);height: 1px;margin: -1px;overflow: hidden;padding: 0;position: absolute;width: 1px;}#sk-container-id-3 div.sk-estimator {font-family: monospace;background-color: #f0f8ff;border: 1px dotted black;border-radius: 0.25em;box-sizing: border-box;margin-bottom: 0.5em;}#sk-container-id-3 div.sk-estimator:hover {background-color: #d4ebff;}#sk-container-id-3 div.sk-parallel-item::after {content: \"\";width: 100%;border-bottom: 1px solid gray;flex-grow: 1;}#sk-container-id-3 div.sk-label:hover label.sk-toggleable__label {background-color: #d4ebff;}#sk-container-id-3 div.sk-serial::before {content: \"\";position: absolute;border-left: 1px solid gray;box-sizing: border-box;top: 0;bottom: 0;left: 50%;z-index: 0;}#sk-container-id-3 div.sk-serial {display: flex;flex-direction: column;align-items: center;background-color: white;padding-right: 0.2em;padding-left: 0.2em;position: relative;}#sk-container-id-3 div.sk-item {position: relative;z-index: 1;}#sk-container-id-3 div.sk-parallel {display: flex;align-items: stretch;justify-content: center;background-color: white;position: relative;}#sk-container-id-3 div.sk-item::before, #sk-container-id-3 div.sk-parallel-item::before {content: \"\";position: absolute;border-left: 1px solid gray;box-sizing: border-box;top: 0;bottom: 0;left: 50%;z-index: -1;}#sk-container-id-3 div.sk-parallel-item {display: flex;flex-direction: column;z-index: 1;position: relative;background-color: white;}#sk-container-id-3 div.sk-parallel-item:first-child::after {align-self: flex-end;width: 50%;}#sk-container-id-3 div.sk-parallel-item:last-child::after {align-self: flex-start;width: 50%;}#sk-container-id-3 div.sk-parallel-item:only-child::after {width: 0;}#sk-container-id-3 div.sk-dashed-wrapped {border: 1px dashed gray;margin: 0 0.4em 0.5em 0.4em;box-sizing: border-box;padding-bottom: 0.4em;background-color: white;}#sk-container-id-3 div.sk-label label {font-family: monospace;font-weight: bold;display: inline-block;line-height: 1.2em;}#sk-container-id-3 div.sk-label-container {text-align: center;}#sk-container-id-3 div.sk-container {/* jupyter's `normalize.less` sets `[hidden] { display: none; }` but bootstrap.min.css set `[hidden] { display: none !important; }` so we also need the `!important` here to be able to override the default hidden behavior on the sphinx rendered scikit-learn.org. See: https://github.com/scikit-learn/scikit-learn/issues/21755 */display: inline-block !important;position: relative;}#sk-container-id-3 div.sk-text-repr-fallback {display: none;}</style><div id=\"sk-container-id-3\" class=\"sk-top-container\"><div class=\"sk-text-repr-fallback\"><pre>KNeighborsClassifier(n_neighbors=17)</pre><b>In a Jupyter environment, please rerun this cell to show the HTML representation or trust the notebook. <br />On GitHub, the HTML representation is unable to render, please try loading this page with nbviewer.org.</b></div><div class=\"sk-container\" hidden><div class=\"sk-item\"><div class=\"sk-estimator sk-toggleable\"><input class=\"sk-toggleable__control sk-hidden--visually\" id=\"sk-estimator-id-3\" type=\"checkbox\" checked><label for=\"sk-estimator-id-3\" class=\"sk-toggleable__label sk-toggleable__label-arrow\">KNeighborsClassifier</label><div class=\"sk-toggleable__content\"><pre>KNeighborsClassifier(n_neighbors=17)</pre></div></div></div></div></div>"
      ],
      "text/plain": [
       "KNeighborsClassifier(n_neighbors=17)"
      ]
     },
     "execution_count": 50,
     "metadata": {},
     "output_type": "execute_result"
    }
   ],
   "source": [
    "knn.fit(X_train,y_train)"
   ]
  },
  {
   "cell_type": "code",
   "execution_count": 51,
   "id": "8b118729",
   "metadata": {},
   "outputs": [],
   "source": [
    "y_pred = knn.predict(X_test)"
   ]
  },
  {
   "cell_type": "code",
   "execution_count": 52,
   "id": "b04a7237",
   "metadata": {},
   "outputs": [
    {
     "data": {
      "text/plain": [
       "(80,)"
      ]
     },
     "execution_count": 52,
     "metadata": {},
     "output_type": "execute_result"
    }
   ],
   "source": [
    "y_pred.shape"
   ]
  },
  {
   "cell_type": "code",
   "execution_count": 53,
   "id": "69c8ead7",
   "metadata": {},
   "outputs": [
    {
     "data": {
      "text/plain": [
       "(80,)"
      ]
     },
     "execution_count": 53,
     "metadata": {},
     "output_type": "execute_result"
    }
   ],
   "source": [
    " y_test.shape"
   ]
  },
  {
   "cell_type": "code",
   "execution_count": 54,
   "id": "83cfde09",
   "metadata": {},
   "outputs": [
    {
     "data": {
      "text/plain": [
       "array([[45,  2],\n",
       "       [ 5, 28]])"
      ]
     },
     "execution_count": 54,
     "metadata": {},
     "output_type": "execute_result"
    }
   ],
   "source": [
    "from sklearn.metrics import confusion_matrix\n",
    "from sklearn.metrics import accuracy_score\n",
    "confusion_matrix(y_test,y_pred)"
   ]
  },
  {
   "cell_type": "code",
   "execution_count": 55,
   "id": "880697ee",
   "metadata": {},
   "outputs": [],
   "source": [
    "accuracy = []\n",
    "\n",
    "for i in range(1,26):\n",
    "    knn = KNeighborsClassifier(n_neighbors=i)\n",
    "    knn.fit(X_train,y_train)\n",
    "    accuracy.append(accuracy_score(y_test,knn.predict(X_test)))"
   ]
  },
  {
   "cell_type": "code",
   "execution_count": 56,
   "id": "2b2cb986",
   "metadata": {},
   "outputs": [
    {
     "data": {
      "text/plain": [
       "[0.825,\n",
       " 0.825,\n",
       " 0.9,\n",
       " 0.8875,\n",
       " 0.925,\n",
       " 0.9125,\n",
       " 0.9375,\n",
       " 0.9125,\n",
       " 0.9125,\n",
       " 0.9125,\n",
       " 0.9125,\n",
       " 0.9125,\n",
       " 0.9125,\n",
       " 0.9125,\n",
       " 0.9125,\n",
       " 0.9125,\n",
       " 0.9125,\n",
       " 0.9125,\n",
       " 0.925,\n",
       " 0.925,\n",
       " 0.9125,\n",
       " 0.9,\n",
       " 0.9,\n",
       " 0.9,\n",
       " 0.9]"
      ]
     },
     "execution_count": 56,
     "metadata": {},
     "output_type": "execute_result"
    }
   ],
   "source": [
    "accuracy"
   ]
  },
  {
   "cell_type": "code",
   "execution_count": 57,
   "id": "769e2cbd",
   "metadata": {},
   "outputs": [
    {
     "data": {
      "text/plain": [
       "[<matplotlib.lines.Line2D at 0x7f986a63fd60>]"
      ]
     },
     "execution_count": 57,
     "metadata": {},
     "output_type": "execute_result"
    },
    {
     "data": {
      "image/png": "[encoded data removed]",
      "text/plain": [
       "<Figure size 640x480 with 1 Axes>"
      ]
     },
     "metadata": {},
     "output_type": "display_data"
    }
   ],
   "source": [
    "plt.plot(range(1,26),accuracy)"
   ]
  },
  {
   "cell_type": "code",
   "execution_count": 59,
   "id": "a44a12b4",
   "metadata": {},
   "outputs": [
    {
     "data": {
      "text/html": [
       "<style>#sk-container-id-5 {color: black;background-color: white;}#sk-container-id-5 pre{padding: 0;}#sk-container-id-5 div.sk-toggleable {background-color: white;}#sk-container-id-5 label.sk-toggleable__label {cursor: pointer;display: block;width: 100%;margin-bottom: 0;padding: 0.3em;box-sizing: border-box;text-align: center;}#sk-container-id-5 label.sk-toggleable__label-arrow:before {content: \"▸\";float: left;margin-right: 0.25em;color: #696969;}#sk-container-id-5 label.sk-toggleable__label-arrow:hover:before {color: black;}#sk-container-id-5 div.sk-estimator:hover label.sk-toggleable__label-arrow:before {color: black;}#sk-container-id-5 div.sk-toggleable__content {max-height: 0;max-width: 0;overflow: hidden;text-align: left;background-color: #f0f8ff;}#sk-container-id-5 div.sk-toggleable__content pre {margin: 0.2em;color: black;border-radius: 0.25em;background-color: #f0f8ff;}#sk-container-id-5 input.sk-toggleable__control:checked~div.sk-toggleable__content {max-height: 200px;max-width: 100%;overflow: auto;}#sk-container-id-5 input.sk-toggleable__control:checked~label.sk-toggleable__label-arrow:before {content: \"▾\";}#sk-container-id-5 div.sk-estimator input.sk-toggleable__control:checked~label.sk-toggleable__label {background-color: #d4ebff;}#sk-container-id-5 div.sk-label input.sk-toggleable__control:checked~label.sk-toggleable__label {background-color: #d4ebff;}#sk-container-id-5 input.sk-hidden--visually {border: 0;clip: rect(1px 1px 1px 1px);clip: rect(1px, 1px, 1px, 1px);height: 1px;margin: -1px;overflow: hidden;padding: 0;position: absolute;width: 1px;}#sk-container-id-5 div.sk-estimator {font-family: monospace;background-color: #f0f8ff;border: 1px dotted black;border-radius: 0.25em;box-sizing: border-box;margin-bottom: 0.5em;}#sk-container-id-5 div.sk-estimator:hover {background-color: #d4ebff;}#sk-container-id-5 div.sk-parallel-item::after {content: \"\";width: 100%;border-bottom: 1px solid gray;flex-grow: 1;}#sk-container-id-5 div.sk-label:hover label.sk-toggleable__label {background-color: #d4ebff;}#sk-container-id-5 div.sk-serial::before {content: \"\";position: absolute;border-left: 1px solid gray;box-sizing: border-box;top: 0;bottom: 0;left: 50%;z-index: 0;}#sk-container-id-5 div.sk-serial {display: flex;flex-direction: column;align-items: center;background-color: white;padding-right: 0.2em;padding-left: 0.2em;position: relative;}#sk-container-id-5 div.sk-item {position: relative;z-index: 1;}#sk-container-id-5 div.sk-parallel {display: flex;align-items: stretch;justify-content: center;background-color: white;position: relative;}#sk-container-id-5 div.sk-item::before, #sk-container-id-5 div.sk-parallel-item::before {content: \"\";position: absolute;border-left: 1px solid gray;box-sizing: border-box;top: 0;bottom: 0;left: 50%;z-index: -1;}#sk-container-id-5 div.sk-parallel-item {display: flex;flex-direction: column;z-index: 1;position: relative;background-color: white;}#sk-container-id-5 div.sk-parallel-item:first-child::after {align-self: flex-end;width: 50%;}#sk-container-id-5 div.sk-parallel-item:last-child::after {align-self: flex-start;width: 50%;}#sk-container-id-5 div.sk-parallel-item:only-child::after {width: 0;}#sk-container-id-5 div.sk-dashed-wrapped {border: 1px dashed gray;margin: 0 0.4em 0.5em 0.4em;box-sizing: border-box;padding-bottom: 0.4em;background-color: white;}#sk-container-id-5 div.sk-label label {font-family: monospace;font-weight: bold;display: inline-block;line-height: 1.2em;}#sk-container-id-5 div.sk-label-container {text-align: center;}#sk-container-id-5 div.sk-container {/* jupyter's `normalize.less` sets `[hidden] { display: none; }` but bootstrap.min.css set `[hidden] { display: none !important; }` so we also need the `!important` here to be able to override the default hidden behavior on the sphinx rendered scikit-learn.org. See: https://github.com/scikit-learn/scikit-learn/issues/21755 */display: inline-block !important;position: relative;}#sk-container-id-5 div.sk-text-repr-fallback {display: none;}</style><div id=\"sk-container-id-5\" class=\"sk-top-container\"><div class=\"sk-text-repr-fallback\"><pre>KNeighborsClassifier(n_neighbors=7)</pre><b>In a Jupyter environment, please rerun this cell to show the HTML representation or trust the notebook. <br />On GitHub, the HTML representation is unable to render, please try loading this page with nbviewer.org.</b></div><div class=\"sk-container\" hidden><div class=\"sk-item\"><div class=\"sk-estimator sk-toggleable\"><input class=\"sk-toggleable__control sk-hidden--visually\" id=\"sk-estimator-id-5\" type=\"checkbox\" checked><label for=\"sk-estimator-id-5\" class=\"sk-toggleable__label sk-toggleable__label-arrow\">KNeighborsClassifier</label><div class=\"sk-toggleable__content\"><pre>KNeighborsClassifier(n_neighbors=7)</pre></div></div></div></div></div>"
      ],
      "text/plain": [
       "KNeighborsClassifier(n_neighbors=7)"
      ]
     },
     "execution_count": 59,
     "metadata": {},
     "output_type": "execute_result"
    }
   ],
   "source": [
    "knn = KNeighborsClassifier(n_neighbors=7)\n",
    "knn.fit(X_train,y_train)"
   ]
  },
  {
   "cell_type": "code",
   "execution_count": 60,
   "id": "98a45042",
   "metadata": {},
   "outputs": [],
   "source": [
    "y_pred = knn.predict(X_test)"
   ]
  },
  {
   "cell_type": "code",
   "execution_count": 61,
   "id": "a685d5b7",
   "metadata": {},
   "outputs": [
    {
     "data": {
      "text/plain": [
       "0.9375"
      ]
     },
     "execution_count": 61,
     "metadata": {},
     "output_type": "execute_result"
    }
   ],
   "source": [
    "accuracy_score(y_test,y_pred)"
   ]
  },
  {
   "cell_type": "code",
   "execution_count": null,
   "id": "0e275ba8",
   "metadata": {},
   "outputs": [],
   "source": []
  }
 ],
 "metadata": {
  "kernelspec": {
   "display_name": "Python 3 (ipykernel)",
   "language": "python",
   "name": "python3"
  },
  "language_info": {
   "codemirror_mode": {
    "name": "ipython",
    "version": 3
   },
   "file_extension": ".py",
   "mimetype": "text/x-python",
   "name": "python",
   "nbconvert_exporter": "python",
   "pygments_lexer": "ipython3",
   "version": "3.10.9"
  }
 },
 "nbformat": 4,
 "nbformat_minor": 5
}
